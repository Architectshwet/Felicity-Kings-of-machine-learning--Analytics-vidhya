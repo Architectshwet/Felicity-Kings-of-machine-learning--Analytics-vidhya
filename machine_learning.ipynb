{
 "cells": [
  {
   "cell_type": "code",
   "execution_count": 1,
   "metadata": {},
   "outputs": [
    {
     "name": "stderr",
     "output_type": "stream",
     "text": [
      "C:\\Users\\Architect_shwet\\Anaconda3\\lib\\site-packages\\sklearn\\cross_validation.py:44: DeprecationWarning: This module was deprecated in version 0.18 in favor of the model_selection module into which all the refactored classes and functions are moved. Also note that the interface of the new CV iterators are different from that of this module. This module will be removed in 0.20.\n",
      "  \"This module will be removed in 0.20.\", DeprecationWarning)\n"
     ]
    }
   ],
   "source": [
    "import pandas as pd\n",
    "import numpy as np\n",
    "import matplotlib.pyplot as plt\n",
    "import os\n",
    "import sys\n",
    "%matplotlib inline\n",
    "from sklearn.model_selection import train_test_split\n",
    "from sklearn.naive_bayes import MultinomialNB\n",
    "from sklearn.svm import LinearSVR\n",
    "from sklearn.ensemble import RandomForestRegressor, GradientBoostingRegressor, VotingClassifier\n",
    "from sklearn.linear_model import SGDRegressor, LinearRegression, BayesianRidge, Lasso, HuberRegressor\n",
    "from sklearn.linear_model import Ridge, RidgeCV, ElasticNet, LassoCV, LassoLarsCV\n",
    "import seaborn as sns\n",
    "sns.set(color_codes = True)\n",
    "from scipy import stats\n",
    "import xgboost as xgb \n",
    "np.random.seed(25)"
   ]
  },
  {
   "cell_type": "code",
   "execution_count": 90,
   "metadata": {
    "collapsed": true
   },
   "outputs": [],
   "source": [
    "train9 = pd.read_csv(\"train9.csv\")\n",
    "train1 = pd.read_csv(\"train1.csv\")\n",
    "test9  = pd.read_csv(\"test9.csv\")\n",
    "test1 = pd.read_csv(\"test1.csv\")\n",
    "data = pd.read_csv(\"hero_data.csv\")"
   ]
  },
  {
   "cell_type": "code",
   "execution_count": 91,
   "metadata": {
    "collapsed": true
   },
   "outputs": [],
   "source": [
    "train = train9.append(train1)\n",
    "train = train.append(test9)\n",
    "train = train.sort_values('user_id')\n",
    "train = pd.merge(train,data, how = 'left', on = 'hero_id')\n",
    "\n",
    "test = test1 \n",
    "test = pd.merge(test,data, how ='left', on = 'hero_id')"
   ]
  },
  {
   "cell_type": "code",
   "execution_count": 92,
   "metadata": {
    "collapsed": true
   },
   "outputs": [],
   "source": [
    "def splitroles(text):\n",
    "    try:\n",
    "        x = text.split(\":\")\n",
    "        if len(x) == 6:\n",
    "            return x\n",
    "        else:\n",
    "            for i in range(6-len(x)):\n",
    "                x.append(\"No label\")\n",
    "            return x\n",
    "    except:\n",
    "        return (\"No label\", \"No label\", \"No label\", \"No label\", \"No label\", \"No label\")"
   ]
  },
  {
   "cell_type": "code",
   "execution_count": 93,
   "metadata": {
    "collapsed": true
   },
   "outputs": [],
   "source": [
    "train = train.drop('num_wins', axis = 1)"
   ]
  },
  {
   "cell_type": "code",
   "execution_count": 94,
   "metadata": {},
   "outputs": [
    {
     "data": {
      "text/html": [
       "<div>\n",
       "<style>\n",
       "    .dataframe thead tr:only-child th {\n",
       "        text-align: right;\n",
       "    }\n",
       "\n",
       "    .dataframe thead th {\n",
       "        text-align: left;\n",
       "    }\n",
       "\n",
       "    .dataframe tbody tr th {\n",
       "        vertical-align: top;\n",
       "    }\n",
       "</style>\n",
       "<table border=\"1\" class=\"dataframe\">\n",
       "  <thead>\n",
       "    <tr style=\"text-align: right;\">\n",
       "      <th></th>\n",
       "      <th>user_id</th>\n",
       "      <th>hero_id</th>\n",
       "      <th>id</th>\n",
       "      <th>num_games</th>\n",
       "      <th>kda_ratio</th>\n",
       "      <th>primary_attr</th>\n",
       "      <th>attack_type</th>\n",
       "      <th>roles</th>\n",
       "      <th>base_health</th>\n",
       "      <th>base_health_regen</th>\n",
       "      <th>...</th>\n",
       "      <th>projectile_speed</th>\n",
       "      <th>attack_rate</th>\n",
       "      <th>move_speed</th>\n",
       "      <th>turn_rate</th>\n",
       "      <th>role_1</th>\n",
       "      <th>role_2</th>\n",
       "      <th>role_3</th>\n",
       "      <th>role_4</th>\n",
       "      <th>role_5</th>\n",
       "      <th>role_6</th>\n",
       "    </tr>\n",
       "  </thead>\n",
       "  <tbody>\n",
       "    <tr>\n",
       "      <th>0</th>\n",
       "      <td>1</td>\n",
       "      <td>74</td>\n",
       "      <td>1_74</td>\n",
       "      <td>304</td>\n",
       "      <td>3743.699732</td>\n",
       "      <td>int</td>\n",
       "      <td>Ranged</td>\n",
       "      <td>Carry:Nuker:Disabler:Escape:Pusher</td>\n",
       "      <td>200</td>\n",
       "      <td>1.50</td>\n",
       "      <td>...</td>\n",
       "      <td>900</td>\n",
       "      <td>1.7</td>\n",
       "      <td>280</td>\n",
       "      <td>0.5</td>\n",
       "      <td>Carry</td>\n",
       "      <td>Nuker</td>\n",
       "      <td>Disabler</td>\n",
       "      <td>Escape</td>\n",
       "      <td>Pusher</td>\n",
       "      <td>No label</td>\n",
       "    </tr>\n",
       "    <tr>\n",
       "      <th>1</th>\n",
       "      <td>1</td>\n",
       "      <td>65</td>\n",
       "      <td>1_65</td>\n",
       "      <td>255</td>\n",
       "      <td>4009.021513</td>\n",
       "      <td>int</td>\n",
       "      <td>Ranged</td>\n",
       "      <td>Initiator:Jungler:Disabler:Escape</td>\n",
       "      <td>200</td>\n",
       "      <td>3.25</td>\n",
       "      <td>...</td>\n",
       "      <td>900</td>\n",
       "      <td>1.7</td>\n",
       "      <td>290</td>\n",
       "      <td>1.0</td>\n",
       "      <td>Initiator</td>\n",
       "      <td>Jungler</td>\n",
       "      <td>Disabler</td>\n",
       "      <td>Escape</td>\n",
       "      <td>No label</td>\n",
       "      <td>No label</td>\n",
       "    </tr>\n",
       "    <tr>\n",
       "      <th>2</th>\n",
       "      <td>1</td>\n",
       "      <td>39</td>\n",
       "      <td>1_39</td>\n",
       "      <td>203</td>\n",
       "      <td>5094.621514</td>\n",
       "      <td>int</td>\n",
       "      <td>Ranged</td>\n",
       "      <td>Carry:Nuker:Escape</td>\n",
       "      <td>200</td>\n",
       "      <td>1.50</td>\n",
       "      <td>...</td>\n",
       "      <td>1500</td>\n",
       "      <td>1.5</td>\n",
       "      <td>295</td>\n",
       "      <td>0.5</td>\n",
       "      <td>Carry</td>\n",
       "      <td>Nuker</td>\n",
       "      <td>Escape</td>\n",
       "      <td>No label</td>\n",
       "      <td>No label</td>\n",
       "      <td>No label</td>\n",
       "    </tr>\n",
       "    <tr>\n",
       "      <th>3</th>\n",
       "      <td>1</td>\n",
       "      <td>106</td>\n",
       "      <td>1_106</td>\n",
       "      <td>158</td>\n",
       "      <td>4619.212963</td>\n",
       "      <td>agi</td>\n",
       "      <td>Melee</td>\n",
       "      <td>Carry:Escape:Nuker:Disabler:Initiator</td>\n",
       "      <td>200</td>\n",
       "      <td>2.00</td>\n",
       "      <td>...</td>\n",
       "      <td>900</td>\n",
       "      <td>1.7</td>\n",
       "      <td>305</td>\n",
       "      <td>0.5</td>\n",
       "      <td>Carry</td>\n",
       "      <td>Escape</td>\n",
       "      <td>Nuker</td>\n",
       "      <td>Disabler</td>\n",
       "      <td>Initiator</td>\n",
       "      <td>No label</td>\n",
       "    </tr>\n",
       "    <tr>\n",
       "      <th>4</th>\n",
       "      <td>1</td>\n",
       "      <td>2</td>\n",
       "      <td>1_2</td>\n",
       "      <td>157</td>\n",
       "      <td>2871.627907</td>\n",
       "      <td>str</td>\n",
       "      <td>Melee</td>\n",
       "      <td>Initiator:Durable:Disabler:Jungler</td>\n",
       "      <td>200</td>\n",
       "      <td>4.25</td>\n",
       "      <td>...</td>\n",
       "      <td>900</td>\n",
       "      <td>1.7</td>\n",
       "      <td>290</td>\n",
       "      <td>0.6</td>\n",
       "      <td>Initiator</td>\n",
       "      <td>Durable</td>\n",
       "      <td>Disabler</td>\n",
       "      <td>Jungler</td>\n",
       "      <td>No label</td>\n",
       "      <td>No label</td>\n",
       "    </tr>\n",
       "  </tbody>\n",
       "</table>\n",
       "<p>5 rows × 33 columns</p>\n",
       "</div>"
      ],
      "text/plain": [
       "   user_id  hero_id     id  num_games    kda_ratio primary_attr attack_type  \\\n",
       "0        1       74   1_74        304  3743.699732          int      Ranged   \n",
       "1        1       65   1_65        255  4009.021513          int      Ranged   \n",
       "2        1       39   1_39        203  5094.621514          int      Ranged   \n",
       "3        1      106  1_106        158  4619.212963          agi       Melee   \n",
       "4        1        2    1_2        157  2871.627907          str       Melee   \n",
       "\n",
       "                                   roles  base_health  base_health_regen  \\\n",
       "0     Carry:Nuker:Disabler:Escape:Pusher          200               1.50   \n",
       "1      Initiator:Jungler:Disabler:Escape          200               3.25   \n",
       "2                     Carry:Nuker:Escape          200               1.50   \n",
       "3  Carry:Escape:Nuker:Disabler:Initiator          200               2.00   \n",
       "4     Initiator:Durable:Disabler:Jungler          200               4.25   \n",
       "\n",
       "     ...     projectile_speed  attack_rate  move_speed  turn_rate     role_1  \\\n",
       "0    ...                  900          1.7         280        0.5      Carry   \n",
       "1    ...                  900          1.7         290        1.0  Initiator   \n",
       "2    ...                 1500          1.5         295        0.5      Carry   \n",
       "3    ...                  900          1.7         305        0.5      Carry   \n",
       "4    ...                  900          1.7         290        0.6  Initiator   \n",
       "\n",
       "    role_2    role_3    role_4     role_5    role_6  \n",
       "0    Nuker  Disabler    Escape     Pusher  No label  \n",
       "1  Jungler  Disabler    Escape   No label  No label  \n",
       "2    Nuker    Escape  No label   No label  No label  \n",
       "3   Escape     Nuker  Disabler  Initiator  No label  \n",
       "4  Durable  Disabler   Jungler   No label  No label  \n",
       "\n",
       "[5 rows x 33 columns]"
      ]
     },
     "execution_count": 94,
     "metadata": {},
     "output_type": "execute_result"
    }
   ],
   "source": [
    "train['role_1'], train['role_2'], train['role_3'], train['role_4'], train['role_5'], train['role_6'] = \\\n",
    "zip(*train['roles'].apply(lambda x: splitroles(x)))\n",
    "test['role_1'], test['role_2'], test['role_3'], test['role_4'], test['role_5'], test['role_6'] = \\\n",
    "zip(*test['roles'].apply(lambda x: splitroles(x)))\n",
    "\n",
    "train.head(5)"
   ]
  },
  {
   "cell_type": "code",
   "execution_count": 95,
   "metadata": {},
   "outputs": [
    {
     "data": {
      "text/html": [
       "<div>\n",
       "<style>\n",
       "    .dataframe thead tr:only-child th {\n",
       "        text-align: right;\n",
       "    }\n",
       "\n",
       "    .dataframe thead th {\n",
       "        text-align: left;\n",
       "    }\n",
       "\n",
       "    .dataframe tbody tr th {\n",
       "        vertical-align: top;\n",
       "    }\n",
       "</style>\n",
       "<table border=\"1\" class=\"dataframe\">\n",
       "  <thead>\n",
       "    <tr style=\"text-align: right;\">\n",
       "      <th></th>\n",
       "      <th>user_id</th>\n",
       "      <th>hero_id</th>\n",
       "      <th>id</th>\n",
       "      <th>num_games</th>\n",
       "      <th>primary_attr</th>\n",
       "      <th>attack_type</th>\n",
       "      <th>roles</th>\n",
       "      <th>base_health</th>\n",
       "      <th>base_health_regen</th>\n",
       "      <th>base_mana</th>\n",
       "      <th>...</th>\n",
       "      <th>projectile_speed</th>\n",
       "      <th>attack_rate</th>\n",
       "      <th>move_speed</th>\n",
       "      <th>turn_rate</th>\n",
       "      <th>role_1</th>\n",
       "      <th>role_2</th>\n",
       "      <th>role_3</th>\n",
       "      <th>role_4</th>\n",
       "      <th>role_5</th>\n",
       "      <th>role_6</th>\n",
       "    </tr>\n",
       "  </thead>\n",
       "  <tbody>\n",
       "    <tr>\n",
       "      <th>0</th>\n",
       "      <td>3</td>\n",
       "      <td>53</td>\n",
       "      <td>3_53</td>\n",
       "      <td>278</td>\n",
       "      <td>int</td>\n",
       "      <td>Ranged</td>\n",
       "      <td>Carry:Jungler:Pusher:Escape:Nuker</td>\n",
       "      <td>200</td>\n",
       "      <td>1.5</td>\n",
       "      <td>75</td>\n",
       "      <td>...</td>\n",
       "      <td>1125</td>\n",
       "      <td>1.70</td>\n",
       "      <td>290</td>\n",
       "      <td>0.6</td>\n",
       "      <td>Carry</td>\n",
       "      <td>Jungler</td>\n",
       "      <td>Pusher</td>\n",
       "      <td>Escape</td>\n",
       "      <td>Nuker</td>\n",
       "      <td>No label</td>\n",
       "    </tr>\n",
       "    <tr>\n",
       "      <th>1</th>\n",
       "      <td>4</td>\n",
       "      <td>17</td>\n",
       "      <td>4_17</td>\n",
       "      <td>180</td>\n",
       "      <td>int</td>\n",
       "      <td>Ranged</td>\n",
       "      <td>Carry:Escape:Nuker:Initiator:Disabler</td>\n",
       "      <td>200</td>\n",
       "      <td>1.5</td>\n",
       "      <td>75</td>\n",
       "      <td>...</td>\n",
       "      <td>1100</td>\n",
       "      <td>1.70</td>\n",
       "      <td>285</td>\n",
       "      <td>0.8</td>\n",
       "      <td>Carry</td>\n",
       "      <td>Escape</td>\n",
       "      <td>Nuker</td>\n",
       "      <td>Initiator</td>\n",
       "      <td>Disabler</td>\n",
       "      <td>No label</td>\n",
       "    </tr>\n",
       "    <tr>\n",
       "      <th>2</th>\n",
       "      <td>9</td>\n",
       "      <td>51</td>\n",
       "      <td>9_51</td>\n",
       "      <td>70</td>\n",
       "      <td>str</td>\n",
       "      <td>Melee</td>\n",
       "      <td>Initiator:Disabler:Durable:Nuker</td>\n",
       "      <td>200</td>\n",
       "      <td>1.5</td>\n",
       "      <td>75</td>\n",
       "      <td>...</td>\n",
       "      <td>900</td>\n",
       "      <td>1.70</td>\n",
       "      <td>315</td>\n",
       "      <td>0.6</td>\n",
       "      <td>Initiator</td>\n",
       "      <td>Disabler</td>\n",
       "      <td>Durable</td>\n",
       "      <td>Nuker</td>\n",
       "      <td>No label</td>\n",
       "      <td>No label</td>\n",
       "    </tr>\n",
       "    <tr>\n",
       "      <th>3</th>\n",
       "      <td>10</td>\n",
       "      <td>54</td>\n",
       "      <td>10_54</td>\n",
       "      <td>189</td>\n",
       "      <td>str</td>\n",
       "      <td>Melee</td>\n",
       "      <td>Carry:Durable:Jungler:Escape:Disabler</td>\n",
       "      <td>200</td>\n",
       "      <td>1.5</td>\n",
       "      <td>75</td>\n",
       "      <td>...</td>\n",
       "      <td>900</td>\n",
       "      <td>1.85</td>\n",
       "      <td>315</td>\n",
       "      <td>1.0</td>\n",
       "      <td>Carry</td>\n",
       "      <td>Durable</td>\n",
       "      <td>Jungler</td>\n",
       "      <td>Escape</td>\n",
       "      <td>Disabler</td>\n",
       "      <td>No label</td>\n",
       "    </tr>\n",
       "    <tr>\n",
       "      <th>4</th>\n",
       "      <td>15</td>\n",
       "      <td>74</td>\n",
       "      <td>15_74</td>\n",
       "      <td>263</td>\n",
       "      <td>int</td>\n",
       "      <td>Ranged</td>\n",
       "      <td>Carry:Nuker:Disabler:Escape:Pusher</td>\n",
       "      <td>200</td>\n",
       "      <td>1.5</td>\n",
       "      <td>75</td>\n",
       "      <td>...</td>\n",
       "      <td>900</td>\n",
       "      <td>1.70</td>\n",
       "      <td>280</td>\n",
       "      <td>0.5</td>\n",
       "      <td>Carry</td>\n",
       "      <td>Nuker</td>\n",
       "      <td>Disabler</td>\n",
       "      <td>Escape</td>\n",
       "      <td>Pusher</td>\n",
       "      <td>No label</td>\n",
       "    </tr>\n",
       "  </tbody>\n",
       "</table>\n",
       "<p>5 rows × 32 columns</p>\n",
       "</div>"
      ],
      "text/plain": [
       "   user_id  hero_id     id  num_games primary_attr attack_type  \\\n",
       "0        3       53   3_53        278          int      Ranged   \n",
       "1        4       17   4_17        180          int      Ranged   \n",
       "2        9       51   9_51         70          str       Melee   \n",
       "3       10       54  10_54        189          str       Melee   \n",
       "4       15       74  15_74        263          int      Ranged   \n",
       "\n",
       "                                   roles  base_health  base_health_regen  \\\n",
       "0      Carry:Jungler:Pusher:Escape:Nuker          200                1.5   \n",
       "1  Carry:Escape:Nuker:Initiator:Disabler          200                1.5   \n",
       "2       Initiator:Disabler:Durable:Nuker          200                1.5   \n",
       "3  Carry:Durable:Jungler:Escape:Disabler          200                1.5   \n",
       "4     Carry:Nuker:Disabler:Escape:Pusher          200                1.5   \n",
       "\n",
       "   base_mana    ...     projectile_speed  attack_rate  move_speed  turn_rate  \\\n",
       "0         75    ...                 1125         1.70         290        0.6   \n",
       "1         75    ...                 1100         1.70         285        0.8   \n",
       "2         75    ...                  900         1.70         315        0.6   \n",
       "3         75    ...                  900         1.85         315        1.0   \n",
       "4         75    ...                  900         1.70         280        0.5   \n",
       "\n",
       "      role_1    role_2    role_3     role_4    role_5    role_6  \n",
       "0      Carry   Jungler    Pusher     Escape     Nuker  No label  \n",
       "1      Carry    Escape     Nuker  Initiator  Disabler  No label  \n",
       "2  Initiator  Disabler   Durable      Nuker  No label  No label  \n",
       "3      Carry   Durable   Jungler     Escape  Disabler  No label  \n",
       "4      Carry     Nuker  Disabler     Escape    Pusher  No label  \n",
       "\n",
       "[5 rows x 32 columns]"
      ]
     },
     "execution_count": 95,
     "metadata": {},
     "output_type": "execute_result"
    }
   ],
   "source": [
    "test.head(5)"
   ]
  },
  {
   "cell_type": "code",
   "execution_count": 96,
   "metadata": {},
   "outputs": [
    {
     "data": {
      "text/html": [
       "<div>\n",
       "<style>\n",
       "    .dataframe thead tr:only-child th {\n",
       "        text-align: right;\n",
       "    }\n",
       "\n",
       "    .dataframe thead th {\n",
       "        text-align: left;\n",
       "    }\n",
       "\n",
       "    .dataframe tbody tr th {\n",
       "        vertical-align: top;\n",
       "    }\n",
       "</style>\n",
       "<table border=\"1\" class=\"dataframe\">\n",
       "  <thead>\n",
       "    <tr style=\"text-align: right;\">\n",
       "      <th></th>\n",
       "      <th>user_id</th>\n",
       "      <th>hero_id</th>\n",
       "      <th>id</th>\n",
       "      <th>num_games</th>\n",
       "      <th>kda_ratio</th>\n",
       "      <th>primary_attr</th>\n",
       "      <th>attack_type</th>\n",
       "      <th>roles</th>\n",
       "      <th>base_health</th>\n",
       "      <th>base_health_regen</th>\n",
       "      <th>...</th>\n",
       "      <th>projectile_speed</th>\n",
       "      <th>attack_rate</th>\n",
       "      <th>move_speed</th>\n",
       "      <th>turn_rate</th>\n",
       "      <th>role_1</th>\n",
       "      <th>role_2</th>\n",
       "      <th>role_3</th>\n",
       "      <th>role_4</th>\n",
       "      <th>role_5</th>\n",
       "      <th>role_6</th>\n",
       "    </tr>\n",
       "  </thead>\n",
       "  <tbody>\n",
       "    <tr>\n",
       "      <th>0</th>\n",
       "      <td>1</td>\n",
       "      <td>74</td>\n",
       "      <td>1_74</td>\n",
       "      <td>304</td>\n",
       "      <td>3743.699732</td>\n",
       "      <td>int</td>\n",
       "      <td>Ranged</td>\n",
       "      <td>Carry:Nuker:Disabler:Escape:Pusher</td>\n",
       "      <td>200</td>\n",
       "      <td>1.50</td>\n",
       "      <td>...</td>\n",
       "      <td>900</td>\n",
       "      <td>1.7</td>\n",
       "      <td>280</td>\n",
       "      <td>0.5</td>\n",
       "      <td>Carry</td>\n",
       "      <td>Nuker</td>\n",
       "      <td>Disabler</td>\n",
       "      <td>Escape</td>\n",
       "      <td>Pusher</td>\n",
       "      <td>No label</td>\n",
       "    </tr>\n",
       "    <tr>\n",
       "      <th>1</th>\n",
       "      <td>1</td>\n",
       "      <td>65</td>\n",
       "      <td>1_65</td>\n",
       "      <td>255</td>\n",
       "      <td>4009.021513</td>\n",
       "      <td>int</td>\n",
       "      <td>Ranged</td>\n",
       "      <td>Initiator:Jungler:Disabler:Escape</td>\n",
       "      <td>200</td>\n",
       "      <td>3.25</td>\n",
       "      <td>...</td>\n",
       "      <td>900</td>\n",
       "      <td>1.7</td>\n",
       "      <td>290</td>\n",
       "      <td>1.0</td>\n",
       "      <td>Initiator</td>\n",
       "      <td>Jungler</td>\n",
       "      <td>Disabler</td>\n",
       "      <td>Escape</td>\n",
       "      <td>No label</td>\n",
       "      <td>No label</td>\n",
       "    </tr>\n",
       "    <tr>\n",
       "      <th>2</th>\n",
       "      <td>1</td>\n",
       "      <td>39</td>\n",
       "      <td>1_39</td>\n",
       "      <td>203</td>\n",
       "      <td>5094.621514</td>\n",
       "      <td>int</td>\n",
       "      <td>Ranged</td>\n",
       "      <td>Carry:Nuker:Escape</td>\n",
       "      <td>200</td>\n",
       "      <td>1.50</td>\n",
       "      <td>...</td>\n",
       "      <td>1500</td>\n",
       "      <td>1.5</td>\n",
       "      <td>295</td>\n",
       "      <td>0.5</td>\n",
       "      <td>Carry</td>\n",
       "      <td>Nuker</td>\n",
       "      <td>Escape</td>\n",
       "      <td>No label</td>\n",
       "      <td>No label</td>\n",
       "      <td>No label</td>\n",
       "    </tr>\n",
       "    <tr>\n",
       "      <th>3</th>\n",
       "      <td>1</td>\n",
       "      <td>106</td>\n",
       "      <td>1_106</td>\n",
       "      <td>158</td>\n",
       "      <td>4619.212963</td>\n",
       "      <td>agi</td>\n",
       "      <td>Melee</td>\n",
       "      <td>Carry:Escape:Nuker:Disabler:Initiator</td>\n",
       "      <td>200</td>\n",
       "      <td>2.00</td>\n",
       "      <td>...</td>\n",
       "      <td>900</td>\n",
       "      <td>1.7</td>\n",
       "      <td>305</td>\n",
       "      <td>0.5</td>\n",
       "      <td>Carry</td>\n",
       "      <td>Escape</td>\n",
       "      <td>Nuker</td>\n",
       "      <td>Disabler</td>\n",
       "      <td>Initiator</td>\n",
       "      <td>No label</td>\n",
       "    </tr>\n",
       "    <tr>\n",
       "      <th>4</th>\n",
       "      <td>1</td>\n",
       "      <td>2</td>\n",
       "      <td>1_2</td>\n",
       "      <td>157</td>\n",
       "      <td>2871.627907</td>\n",
       "      <td>str</td>\n",
       "      <td>Melee</td>\n",
       "      <td>Initiator:Durable:Disabler:Jungler</td>\n",
       "      <td>200</td>\n",
       "      <td>4.25</td>\n",
       "      <td>...</td>\n",
       "      <td>900</td>\n",
       "      <td>1.7</td>\n",
       "      <td>290</td>\n",
       "      <td>0.6</td>\n",
       "      <td>Initiator</td>\n",
       "      <td>Durable</td>\n",
       "      <td>Disabler</td>\n",
       "      <td>Jungler</td>\n",
       "      <td>No label</td>\n",
       "      <td>No label</td>\n",
       "    </tr>\n",
       "  </tbody>\n",
       "</table>\n",
       "<p>5 rows × 33 columns</p>\n",
       "</div>"
      ],
      "text/plain": [
       "   user_id  hero_id     id  num_games    kda_ratio primary_attr attack_type  \\\n",
       "0        1       74   1_74        304  3743.699732          int      Ranged   \n",
       "1        1       65   1_65        255  4009.021513          int      Ranged   \n",
       "2        1       39   1_39        203  5094.621514          int      Ranged   \n",
       "3        1      106  1_106        158  4619.212963          agi       Melee   \n",
       "4        1        2    1_2        157  2871.627907          str       Melee   \n",
       "\n",
       "                                   roles  base_health  base_health_regen  \\\n",
       "0     Carry:Nuker:Disabler:Escape:Pusher          200               1.50   \n",
       "1      Initiator:Jungler:Disabler:Escape          200               3.25   \n",
       "2                     Carry:Nuker:Escape          200               1.50   \n",
       "3  Carry:Escape:Nuker:Disabler:Initiator          200               2.00   \n",
       "4     Initiator:Durable:Disabler:Jungler          200               4.25   \n",
       "\n",
       "     ...     projectile_speed  attack_rate  move_speed  turn_rate     role_1  \\\n",
       "0    ...                  900          1.7         280        0.5      Carry   \n",
       "1    ...                  900          1.7         290        1.0  Initiator   \n",
       "2    ...                 1500          1.5         295        0.5      Carry   \n",
       "3    ...                  900          1.7         305        0.5      Carry   \n",
       "4    ...                  900          1.7         290        0.6  Initiator   \n",
       "\n",
       "    role_2    role_3    role_4     role_5    role_6  \n",
       "0    Nuker  Disabler    Escape     Pusher  No label  \n",
       "1  Jungler  Disabler    Escape   No label  No label  \n",
       "2    Nuker    Escape  No label   No label  No label  \n",
       "3   Escape     Nuker  Disabler  Initiator  No label  \n",
       "4  Durable  Disabler   Jungler   No label  No label  \n",
       "\n",
       "[5 rows x 33 columns]"
      ]
     },
     "execution_count": 96,
     "metadata": {},
     "output_type": "execute_result"
    }
   ],
   "source": [
    "train.head(5)"
   ]
  },
  {
   "cell_type": "code",
   "execution_count": 106,
   "metadata": {},
   "outputs": [
    {
     "data": {
      "text/plain": [
       "user_id                    int64\n",
       "num_games                  int64\n",
       "primary_attr              object\n",
       "attack_type               object\n",
       "base_health_regen        float64\n",
       "base_armor               float64\n",
       "base_magic_resistance      int64\n",
       "base_attack_min            int64\n",
       "base_attack_max            int64\n",
       "base_strength              int64\n",
       "base_agility               int64\n",
       "base_intelligence          int64\n",
       "strength_gain            float64\n",
       "agility_gain             float64\n",
       "intelligence_gain        float64\n",
       "attack_range               int64\n",
       "projectile_speed           int64\n",
       "attack_rate              float64\n",
       "move_speed                 int64\n",
       "turn_rate                float64\n",
       "role_1                    object\n",
       "role_2                    object\n",
       "role_3                    object\n",
       "role_4                    object\n",
       "role_5                    object\n",
       "role_6                    object\n",
       "dtype: object"
      ]
     },
     "execution_count": 106,
     "metadata": {},
     "output_type": "execute_result"
    }
   ],
   "source": [
    "train.dtypes"
   ]
  },
  {
   "cell_type": "code",
   "execution_count": 107,
   "metadata": {
    "collapsed": true
   },
   "outputs": [],
   "source": [
    "train['primary_attr'] = train['primary_attr'].replace(to_replace = {'agi': 0, 'int': 1, 'str': 2})\n",
    "train['attack_type'] = train['attack_type'].replace(to_replace = {\n",
    "    'Ranged': 0, 'Melee': 1})\n",
    "\n",
    "test['primary_attr'] = test['primary_attr'].replace(to_replace = {'agi': 0, 'int': 1, 'str': 2})\n",
    "test['attack_type'] = test['attack_type'].replace(to_replace = {\n",
    "    'Ranged': 0, 'Melee': 1})"
   ]
  },
  {
   "cell_type": "code",
   "execution_count": 108,
   "metadata": {
    "collapsed": true
   },
   "outputs": [],
   "source": [
    "from sklearn.preprocessing import LabelEncoder\n",
    "\n",
    "for c in train.columns:\n",
    "    if train[c].dtype == 'object':\n",
    "        lbl = LabelEncoder()\n",
    "        lbl.fit(list(train[c].values) + list(test[c].values))\n",
    "        train[c] = lbl.transform(list(train[c].values))\n",
    "        test[c] = lbl.transform(list(test[c].values))"
   ]
  },
  {
   "cell_type": "code",
   "execution_count": 100,
   "metadata": {
    "collapsed": true
   },
   "outputs": [],
   "source": [
    "train = train.drop('roles', axis = 1)"
   ]
  },
  {
   "cell_type": "code",
   "execution_count": 101,
   "metadata": {
    "collapsed": true
   },
   "outputs": [],
   "source": [
    "test = test.drop('roles', axis = 1)"
   ]
  },
  {
   "cell_type": "code",
   "execution_count": 102,
   "metadata": {
    "collapsed": true
   },
   "outputs": [],
   "source": [
    "target = train['kda_ratio']\n",
    "train = train.drop('kda_ratio', axis = 1)"
   ]
  },
  {
   "cell_type": "code",
   "execution_count": 103,
   "metadata": {
    "collapsed": true
   },
   "outputs": [],
   "source": [
    "train = train.drop(['hero_id', 'id', 'base_health','base_mana'], axis = 1)"
   ]
  },
  {
   "cell_type": "code",
   "execution_count": 104,
   "metadata": {
    "collapsed": true
   },
   "outputs": [],
   "source": [
    "test = test.drop(['hero_id', 'id', 'base_health','base_mana'], axis = 1)"
   ]
  },
  {
   "cell_type": "code",
   "execution_count": 105,
   "metadata": {
    "collapsed": true
   },
   "outputs": [],
   "source": [
    "test = test.drop('base_mana_regen', axis = 1)\n",
    "train = train.drop('base_mana_regen', axis = 1)"
   ]
  },
  {
   "cell_type": "markdown",
   "metadata": {},
   "source": [
    "# Machine Learning starts"
   ]
  },
  {
   "cell_type": "code",
   "execution_count": 113,
   "metadata": {},
   "outputs": [],
   "source": [
    "# Splitting the dataset into the Training set and Test set\n",
    "from sklearn.cross_validation import train_test_split\n",
    "X_train, X_test, y_train, y_test = train_test_split(train, target, test_size = 0.2, random_state = 0)\n",
    "from sklearn.metrics import mean_squared_error\n",
    "def rmse(y_test,y_pred):\n",
    "      return np.sqrt(mean_squared_error(y_test,y_pred))"
   ]
  },
  {
   "cell_type": "code",
   "execution_count": 115,
   "metadata": {},
   "outputs": [
    {
     "name": "stdout",
     "output_type": "stream",
     "text": [
      "XGBoost score on test set:  753.129677087\n"
     ]
    }
   ],
   "source": [
    "from xgboost import XGBRegressor\n",
    "model = XGBRegressor(colsample_bytree=0.2,\n",
    "                        gamma=0.0,\n",
    "                        learning_rate=0.6,\n",
    "                        max_depth=5,\n",
    "                        min_child_weight=2.5,\n",
    "                        n_estimators=1000,#50,000\n",
    "                        reg_alpha=0.4,\n",
    "                        reg_lambda=0.6,\n",
    "                       subsample=0.8,\n",
    "                      seed=42,\n",
    "                      silent=1)\n",
    "\n",
    "model.fit(X_train, y_train)\n",
    "pred_xgb = model.predict(X_test)\n",
    "print(\"XGBoost score on test set: \", rmse(y_test, pred_xgb))"
   ]
  },
  {
   "cell_type": "code",
   "execution_count": 48,
   "metadata": {},
   "outputs": [
    {
     "name": "stdout",
     "output_type": "stream",
     "text": [
      "RMSE: 809.322421\n"
     ]
    }
   ],
   "source": [
    "# Instantiate the XGBRegressor: xg_reg\n",
    "xg_reg = xgb.XGBRegressor(objective=\"reg:linear\", n_estimators=3000, seed=123)\n",
    "\n",
    "# Fit the regressor to the training set\n",
    "xg_reg.fit(X_train, y_train)\n",
    "\n",
    "# Predict the labels of the test set: preds\n",
    "preds= xg_reg.predict(X_test)\n",
    "\n",
    "# Compute the rmse: rmse\n",
    "rmse = np.sqrt(mean_squared_error(y_test, preds))\n",
    "print(\"RMSE: %f\" % (rmse))\n"
   ]
  },
  {
   "cell_type": "code",
   "execution_count": null,
   "metadata": {
    "collapsed": true
   },
   "outputs": [],
   "source": [
    "model = RandomForestRegressor()\n",
    "model.fit(train[feature_names], target)\n",
    "pred_rf = model.predict(test[feature_names])"
   ]
  },
  {
   "cell_type": "code",
   "execution_count": 166,
   "metadata": {},
   "outputs": [],
   "source": [
    "### Running Xgboost\n",
    "def runXGB(train_X, train_y, test_X, test_y, test_X2=None, seed_val=0, rounds=1000, dep=5, eta=0.5):\n",
    "    params = {}\n",
    "    params[\"objective\"] = \"reg:linear\"\n",
    "    params['eval_metric'] = 'rmse'\n",
    "    params[\"eta\"] = eta\n",
    "    params[\"subsample\"] = 0.7\n",
    "    params[\"min_child_weight\"] = 50\n",
    "    params[\"colsample_bytree\"] = 0.5\n",
    "    params[\"max_depth\"] = dep\n",
    "    params[\"silent\"] = 1\n",
    "    params[\"seed\"] = seed_val\n",
    "    params[\"num_boosting_rounds\"] = 450\n",
    "    params[\"lambda\"] = 30\n",
    "    #params[\"max_delta_step\"] = 2\n",
    "    #params[\"gamma\"] = 0.5\n",
    "    num_rounds = rounds\n",
    "\n",
    "    plst = list(params.items())\n",
    "    xgtrain = xgb.DMatrix(train_X, label=train_y)\n",
    "\n",
    "    \n",
    "    xgtest = xgb.DMatrix(test_X, label=test_y)\n",
    "    watchlist = [ (xgtrain,'train'), (xgtest, 'test') ]\n",
    "    model = xgb.train(plst, xgtrain, num_rounds, watchlist, early_stopping_rounds=100, verbose_eval=20)\n",
    "    pred_test_y = model.predict(xgtest, ntree_limit=model.best_ntree_limit)\n",
    "    return pred_test_y, model"
   ]
  },
  {
   "cell_type": "code",
   "execution_count": 181,
   "metadata": {
    "collapsed": true
   },
   "outputs": [],
   "source": [
    "### Running Xgboost\n",
    "def runXGB(train_X, train_y, test_X, test_y, test_X2=None, seed_val=0, rounds=1000, dep=5, eta=0.5):\n",
    "    params = {}\n",
    "    params[\"objective\"] = \"reg:linear\"\n",
    "    \n",
    "    #params[\"max_delta_step\"] = 2\n",
    "    #params[\"gamma\"] = 0.5\n",
    "    num_rounds = rounds\n",
    "\n",
    "    plst = list(params.items())\n",
    "    xgtrain = xgb.DMatrix(train_X, label=train_y)\n",
    "\n",
    "    \n",
    "    xgtest = xgb.DMatrix(test_X, label=test_y)\n",
    "    watchlist = [ (xgtrain,'train'), (xgtest, 'test') ]\n",
    "    model = xgb.train(plst, xgtrain, num_rounds, watchlist, early_stopping_rounds=100, verbose_eval=20)\n",
    "    pred_test_y = model.predict(xgtest, ntree_limit=model.best_ntree_limit)\n",
    "    return pred_test_y, model"
   ]
  },
  {
   "cell_type": "code",
   "execution_count": 182,
   "metadata": {},
   "outputs": [
    {
     "name": "stdout",
     "output_type": "stream",
     "text": [
      "[0]\ttrain-rmse:2654.16\ttest-rmse:2643.97\n",
      "Multiple eval metrics have been passed: 'test-rmse' will be used for early stopping.\n",
      "\n",
      "Will train until test-rmse hasn't improved in 100 rounds.\n",
      "[20]\ttrain-rmse:733.659\ttest-rmse:792.789\n",
      "[40]\ttrain-rmse:682.404\ttest-rmse:773.94\n",
      "[60]\ttrain-rmse:644.119\ttest-rmse:762.984\n",
      "[80]\ttrain-rmse:607.852\ttest-rmse:753.612\n",
      "[100]\ttrain-rmse:582.946\ttest-rmse:748.748\n",
      "[120]\ttrain-rmse:560.14\ttest-rmse:748.55\n",
      "[140]\ttrain-rmse:536.887\ttest-rmse:743.642\n",
      "[160]\ttrain-rmse:513.422\ttest-rmse:738.892\n",
      "[180]\ttrain-rmse:494.939\ttest-rmse:735.026\n",
      "[200]\ttrain-rmse:477.796\ttest-rmse:734.194\n",
      "[220]\ttrain-rmse:464.393\ttest-rmse:733.228\n",
      "[240]\ttrain-rmse:450.668\ttest-rmse:730.294\n",
      "[260]\ttrain-rmse:434.567\ttest-rmse:729.841\n",
      "[280]\ttrain-rmse:420.876\ttest-rmse:727.906\n",
      "[300]\ttrain-rmse:408.978\ttest-rmse:726.969\n",
      "[320]\ttrain-rmse:399.731\ttest-rmse:726.408\n",
      "[340]\ttrain-rmse:387.333\ttest-rmse:724.355\n",
      "[360]\ttrain-rmse:374.655\ttest-rmse:722.59\n",
      "[380]\ttrain-rmse:365.273\ttest-rmse:721.028\n",
      "[400]\ttrain-rmse:356.043\ttest-rmse:721.093\n",
      "[420]\ttrain-rmse:345.298\ttest-rmse:720.136\n",
      "[440]\ttrain-rmse:336.22\ttest-rmse:720.417\n",
      "[460]\ttrain-rmse:328.652\ttest-rmse:720.68\n",
      "[480]\ttrain-rmse:320.442\ttest-rmse:720.887\n",
      "[500]\ttrain-rmse:310.682\ttest-rmse:720.384\n",
      "[520]\ttrain-rmse:304.771\ttest-rmse:719.553\n",
      "[540]\ttrain-rmse:297.147\ttest-rmse:717.764\n",
      "[560]\ttrain-rmse:289.766\ttest-rmse:717.897\n",
      "[580]\ttrain-rmse:281.192\ttest-rmse:717.42\n",
      "[600]\ttrain-rmse:275.431\ttest-rmse:717.501\n",
      "[620]\ttrain-rmse:268.432\ttest-rmse:717.475\n",
      "[640]\ttrain-rmse:262.657\ttest-rmse:717.18\n",
      "[660]\ttrain-rmse:255.731\ttest-rmse:716.25\n",
      "[680]\ttrain-rmse:250.552\ttest-rmse:716.34\n",
      "[700]\ttrain-rmse:244.457\ttest-rmse:716.057\n",
      "[720]\ttrain-rmse:238.377\ttest-rmse:715.758\n",
      "[740]\ttrain-rmse:233.021\ttest-rmse:715.709\n",
      "[760]\ttrain-rmse:227.74\ttest-rmse:715.974\n",
      "[780]\ttrain-rmse:222.619\ttest-rmse:715.953\n",
      "[800]\ttrain-rmse:217.551\ttest-rmse:715.85\n",
      "[820]\ttrain-rmse:212.821\ttest-rmse:715.832\n",
      "[840]\ttrain-rmse:207.917\ttest-rmse:715.458\n",
      "[860]\ttrain-rmse:202.376\ttest-rmse:715.529\n",
      "[880]\ttrain-rmse:197.292\ttest-rmse:715.252\n",
      "[900]\ttrain-rmse:193.283\ttest-rmse:715.062\n",
      "[920]\ttrain-rmse:189.615\ttest-rmse:714.809\n",
      "[940]\ttrain-rmse:185.036\ttest-rmse:715.288\n",
      "[960]\ttrain-rmse:181.923\ttest-rmse:715.351\n",
      "[980]\ttrain-rmse:178.778\ttest-rmse:715.842\n"
     ]
    }
   ],
   "source": [
    "pred_test_y, model = runXGB(X_train, y_train, X_test, y_test,\n",
    "                                                 seed_val=0, \n",
    "                                                rounds=1000, dep=8, eta=0.05)\n"
   ]
  },
  {
   "cell_type": "code",
   "execution_count": 183,
   "metadata": {},
   "outputs": [
    {
     "name": "stdout",
     "output_type": "stream",
     "text": [
      "RMSE: 714.729785\n"
     ]
    }
   ],
   "source": [
    "# Compute the rmse: rmse\n",
    "rmse = np.sqrt(mean_squared_error(y_test, pred_test_y))\n",
    "print(\"RMSE: %f\" % (rmse))"
   ]
  },
  {
   "cell_type": "code",
   "execution_count": 169,
   "metadata": {},
   "outputs": [
    {
     "name": "stdout",
     "output_type": "stream",
     "text": [
      "RMSE: 721.126954\n"
     ]
    }
   ],
   "source": [
    "# Convert the training and testing sets into DMatrixes: DM_train, DM_test\n",
    "DM_train = xgb.DMatrix(data = X_train, label = y_train)\n",
    "DM_test =  xgb.DMatrix(data = X_test, label = y_test)\n",
    "\n",
    "# Create the parameter dictionary: params\n",
    "params = {\"objective\":\"reg:linear\"}\n",
    "\n",
    "# Train the model: xg_reg\n",
    "xg_reg = xgb.train(dtrain = DM_train, params=params, num_boost_round=450)\n",
    "\n",
    "# Predict the labels of the test set: preds\n",
    "preds = xg_reg.predict(DM_test)\n",
    "\n",
    "# Compute and print the RMSE\n",
    "rmse = np.sqrt(mean_squared_error(y_test,preds))\n",
    "print(\"RMSE: %f\" % (rmse))\n"
   ]
  },
  {
   "cell_type": "code",
   "execution_count": 125,
   "metadata": {},
   "outputs": [
    {
     "name": "stdout",
     "output_type": "stream",
     "text": [
      "Best rmse as a function of l2:\n",
      "   l2        rmse\n",
      "0  20  885.068665\n",
      "1  25  884.488861\n",
      "2  30  883.370606\n"
     ]
    }
   ],
   "source": [
    "# Create the DMatrix: housing_dmatrix\n",
    "housing_dmatrix = xgb.DMatrix(data= train, label= target)\n",
    "\n",
    "reg_params = [20, 25, 30]\n",
    "\n",
    "# Create the initial parameter dictionary for varying l2 strength: params\n",
    "params = {\"objective\":\"reg:linear\"}\n",
    "\n",
    "# Create an empty list for storing rmses as a function of l2 complexity\n",
    "rmses_l2 = []\n",
    "\n",
    "# Iterate over reg_params\n",
    "for reg in reg_params:\n",
    "\n",
    "    # Update l2 strength\n",
    "    params[\"lambda\"] = reg\n",
    "    \n",
    "    # Pass this updated param dictionary into cv\n",
    "    cv_results_rmse = xgb.cv(dtrain=housing_dmatrix, params=params, nfold=2, num_boost_round=5, metrics=\"rmse\", as_pandas=True, seed=123)\n",
    "    \n",
    "    # Append best rmse (final round) to rmses_l2\n",
    "    rmses_l2.append(cv_results_rmse[\"test-rmse-mean\"].tail(1).values[0])\n",
    "\n",
    "# Look at best rmse per l2 param\n",
    "print(\"Best rmse as a function of l2:\")\n",
    "print(pd.DataFrame(list(zip(reg_params, rmses_l2)), columns=[\"l2\", \"rmse\"]))\n"
   ]
  },
  {
   "cell_type": "code",
   "execution_count": 173,
   "metadata": {},
   "outputs": [
    {
     "name": "stdout",
     "output_type": "stream",
     "text": [
      "Best rmse as a function of l2:\n",
      "   l2        rmse\n",
      "0  20  870.737304\n",
      "1  25  857.734192\n",
      "2  30  879.747161\n"
     ]
    }
   ],
   "source": [
    "# Create the DMatrix: housing_dmatrix\n",
    "housing_dmatrix = xgb.DMatrix(data= train, label= target)\n",
    "\n",
    "reg_lambda = [20, 25, 30]\n",
    "\n",
    "# Create the initial parameter dictionary for varying l2 strength: params\n",
    "params = {\"objective\":\"reg:linear\"}\n",
    "\n",
    "# Create an empty list for storing rmses as a function of l2 complexity\n",
    "rmses_l2 = []\n",
    "\n",
    "# Iterate over reg_params\n",
    "for reg in reg_params:\n",
    "\n",
    "    # Update l2 strength\n",
    "    params[\"lambda\"] = reg\n",
    "    \n",
    "    # Pass this updated param dictionary into cv\n",
    "    cv_results_rmse = xgb.cv(dtrain=housing_dmatrix, params=params, nfold=2, num_boost_round=450, metrics=\"rmse\", as_pandas=True, seed=123)\n",
    "    \n",
    "    # Append best rmse (final round) to rmses_l2\n",
    "    rmses_l2.append(cv_results_rmse[\"test-rmse-mean\"].tail(1).values[0])\n",
    "\n",
    "# Look at best rmse per l2 param\n",
    "print(\"Best rmse as a function of l2:\")\n",
    "print(pd.DataFrame(list(zip(reg_params, rmses_l2)), columns=[\"l2\", \"rmse\"]))"
   ]
  },
  {
   "cell_type": "code",
   "execution_count": 124,
   "metadata": {},
   "outputs": [
    {
     "name": "stdout",
     "output_type": "stream",
     "text": [
      "   colsample_bytree   best_rmse\n",
      "0              0.46  870.334564\n",
      "1              0.50  869.586395\n",
      "2              0.56  871.729431\n"
     ]
    }
   ],
   "source": [
    "# Create your housing DMatrix\n",
    "housing_dmatrix = xgb.DMatrix(data= train ,label= target)\n",
    "\n",
    "# Create the parameter dictionary\n",
    "params={\"objective\":\"reg:linear\",\"max_depth\":5,\n",
    "                                             \"eta\": 0.6, \"reg_params\": 30}\n",
    "\n",
    "# Create list of hyperparameter values\n",
    "colsample_bytree_vals = [0.46, 0.5, 0.56]\n",
    "best_rmse = []\n",
    "\n",
    "# Systematically vary the hyperparameter value \n",
    "for curr_val in colsample_bytree_vals:\n",
    "\n",
    "    params[\"colsample_bytree\"] = curr_val\n",
    "    \n",
    "    # Perform cross-validation\n",
    "    cv_results = xgb.cv(dtrain=housing_dmatrix, params=params, nfold=2,\n",
    "                 num_boost_round=5, early_stopping_rounds=10,\n",
    "                 metrics=\"rmse\", as_pandas=True, seed=123)\n",
    "    \n",
    "    # Append the final round rmse to best_rmse\n",
    "    best_rmse.append(cv_results[\"test-rmse-mean\"].tail().values[-1])\n",
    "\n",
    "# Print the resultant DataFrame\n",
    "print(pd.DataFrame(list(zip(colsample_bytree_vals, best_rmse)), columns=[\"colsample_bytree\",\"best_rmse\"]))\n"
   ]
  },
  {
   "cell_type": "code",
   "execution_count": 126,
   "metadata": {},
   "outputs": [
    {
     "data": {
      "image/png": "[encoded data removed]",
      "text/plain": [
       "<matplotlib.figure.Figure at 0x2a9eecb9438>"
      ]
     },
     "metadata": {},
     "output_type": "display_data"
    }
   ],
   "source": [
    "# Create the DMatrix: housing_dmatrix\n",
    "housing_dmatrix = xgb.DMatrix(data = train, label = target)\n",
    "\n",
    "# Create the parameter dictionary: params\n",
    "params = {\"objective\":\"reg:linear\",\"max_depth\": 5, \"eta\": 0.5, \"colsample_bytree\": 0.5, \"reg_params\": 30}\n",
    "\n",
    "# Train the model: xg_reg\n",
    "xg_reg = xgb.train(params=params, dtrain=housing_dmatrix, num_boost_round=10)\n",
    "\n",
    "# Plot the feature importances\n",
    "xgb.plot_importance(xg_reg)\n",
    "plt.show()"
   ]
  },
  {
   "cell_type": "code",
   "execution_count": 144,
   "metadata": {},
   "outputs": [
    {
     "name": "stdout",
     "output_type": "stream",
     "text": [
      "   num_boosting_rounds        rmse\n",
      "0                  425  822.882935\n",
      "1                  450  822.015116\n",
      "2                  500  822.040283\n"
     ]
    }
   ],
   "source": [
    "# Create the DMatrix: housing_dmatrix\n",
    "housing_dmatrix = xgb.DMatrix(data=train, label=target)\n",
    "\n",
    "# Create the parameter dictionary for each tree: params \n",
    "params = {\"objective\":\"reg:linear\", \"max_depth\":5, \"eta\": 0.5, \"colsample_bytree\": 0.5, \"reg_params\": 30}\n",
    "\n",
    "# Create list of number of boosting rounds\n",
    "num_rounds = [425, 450, 500]\n",
    "\n",
    "# Empty list to store final round rmse per XGBoost model\n",
    "final_rmse_per_round = []\n",
    "\n",
    "# Iterate over num_rounds and build one model per num_boost_round parameter\n",
    "for curr_num_rounds in num_rounds:\n",
    "\n",
    "    # Perform cross-validation: cv_results\n",
    "    cv_results = xgb.cv(dtrain=housing_dmatrix, params=params, nfold=3, num_boost_round=curr_num_rounds, metrics=\"rmse\", as_pandas=True, seed=123)\n",
    "    \n",
    "    # Append final round RMSE\n",
    "    final_rmse_per_round.append(cv_results[\"test-rmse-mean\"].tail().values[-1])\n",
    "\n",
    "# Print the resultant DataFrame\n",
    "num_rounds_rmses = list(zip(num_rounds, final_rmse_per_round))\n",
    "print(pd.DataFrame(num_rounds_rmses,columns=[\"num_boosting_rounds\",\"rmse\"]))\n"
   ]
  },
  {
   "cell_type": "code",
   "execution_count": 186,
   "metadata": {},
   "outputs": [
    {
     "name": "stdout",
     "output_type": "stream",
     "text": [
      "   min_child_weight   best_rmse\n",
      "0                50  836.904144\n",
      "1                75  837.732727\n",
      "2               100  837.723327\n"
     ]
    }
   ],
   "source": [
    "# Create your housing DMatrix\n",
    "housing_dmatrix = xgb.DMatrix(data= train ,label= target)\n",
    "\n",
    "# Create the parameter dictionary\n",
    "params={\"objective\":\"reg:linear\"}\n",
    "\n",
    "# Create list of hyperparameter values\n",
    "min_child_weight_l = [50, 75, 100]\n",
    "\n",
    "best_rmse = []\n",
    "\n",
    "# Systematically vary the hyperparameter value \n",
    "for curr_val in min_child_weight_l:\n",
    "\n",
    "    params[\"min_child_weight\"] = curr_val\n",
    "    \n",
    "    # Perform cross-validation\n",
    "    cv_results = xgb.cv(dtrain=housing_dmatrix, params=params, nfold=2,\n",
    "                 num_boost_round=450, early_stopping_rounds=100,\n",
    "                 metrics=\"rmse\", as_pandas=True, seed=123)\n",
    "    \n",
    "    # Append the final round rmse to best_rmse\n",
    "    best_rmse.append(cv_results[\"test-rmse-mean\"].tail().values[-1])\n",
    "\n",
    "# Print the resultant DataFrame\n",
    "print(pd.DataFrame(list(zip(min_child_weight_l, best_rmse)), columns=[\"min_child_weight\",\"best_rmse\"]))"
   ]
  },
  {
   "cell_type": "code",
   "execution_count": 75,
   "metadata": {},
   "outputs": [
    {
     "name": "stdout",
     "output_type": "stream",
     "text": [
      "   eta   best_rmse\n",
      "0  0.4  900.809021\n",
      "1  0.5  885.045319\n",
      "2  0.6  899.536377\n"
     ]
    }
   ],
   "source": [
    "# Create your housing DMatrix: housing_dmatrix\n",
    "housing_dmatrix = xgb.DMatrix(data= train , label= target)\n",
    "\n",
    "# Create the parameter dictionary for each tree (boosting round)\n",
    "params = {\"objective\":\"reg:linear\", \"max_depth\":5}\n",
    "\n",
    "# Create list of eta values and empty list to store final round rmse per xgboost model\n",
    "eta_vals = [0.4, 0.5, 0.6]\n",
    "best_rmse = []\n",
    "\n",
    "# Systematically vary the eta\n",
    "for curr_val in eta_vals:\n",
    "    \n",
    "    params[\"eta\"] = curr_val   \n",
    "    # Perform cross-validation: cv_results\n",
    "    cv_results = xgb.cv(dtrain=housing_dmatrix, params=params, nfold=2,\n",
    "                        num_boost_round=10, early_stopping_rounds=5,\n",
    "                        metrics=\"rmse\", as_pandas=True, seed=123)\n",
    "    \n",
    "    # Append the final round rmse to best_rmse\n",
    "    best_rmse.append(cv_results[\"test-rmse-mean\"].tail().values[-1])\n",
    "\n",
    "# Print the resultant DataFrame\n",
    "print(pd.DataFrame(list(zip(eta_vals, best_rmse)), columns=[\"eta\",\"best_rmse\"]))\n"
   ]
  },
  {
   "cell_type": "code",
   "execution_count": 74,
   "metadata": {},
   "outputs": [
    {
     "name": "stdout",
     "output_type": "stream",
     "text": [
      "   max_depth   best_rmse\n",
      "0          2  904.040985\n",
      "1          5  885.045319\n",
      "2         10  909.610168\n",
      "3         20  961.657867\n"
     ]
    }
   ],
   "source": [
    "# Create your housing DMatrix: housing_dmatrix\n",
    "housing_dmatrix = xgb.DMatrix(data= train ,label= target)\n",
    "\n",
    "# Create the parameter dictionary\n",
    "params = {\"objective\":\"reg:linear\", \"eta\": 0.5}\n",
    "\n",
    "# Create list of max_depth values\n",
    "max_depths = [2, 5, 10, 20]\n",
    "best_rmse = []\n",
    "\n",
    "# Systematically vary the max_depth\n",
    "for curr_val in max_depths:\n",
    "\n",
    "    params[\"max_depth\"] = curr_val\n",
    "    \n",
    "    # Perform cross-validation\n",
    "    cv_results = xgb.cv(dtrain=housing_dmatrix, params=params, nfold=2,\n",
    "                 num_boost_round=450, early_stopping_rounds=5,\n",
    "                 metrics=\"rmse\", as_pandas=True, seed=123)\n",
    "    \n",
    "    # Append the final round rmse to best_rmse\n",
    "    best_rmse.append(cv_results[\"test-rmse-mean\"].tail().values[-1])\n",
    "\n",
    "# Print the resultant DataFrame\n",
    "print(pd.DataFrame(list(zip(max_depths, best_rmse)),columns=[\"max_depth\",\"best_rmse\"]))\n"
   ]
  },
  {
   "cell_type": "code",
   "execution_count": 135,
   "metadata": {},
   "outputs": [
    {
     "name": "stdout",
     "output_type": "stream",
     "text": [
      "    test-rmse-mean  test-rmse-std  train-rmse-mean  train-rmse-std\n",
      "0      2662.965169      14.081918      2659.028158        5.988665\n",
      "1      1975.165080      15.774071      1967.186686        7.140389\n",
      "2      1526.976237      18.432803      1513.203206        7.379236\n",
      "3      1246.670044      19.547542      1225.786296        6.398077\n",
      "4      1081.654744      21.012437      1051.204508        8.829174\n",
      "5       987.124003      19.740630       951.579529        7.104562\n",
      "6       934.857910      23.115658       894.779724        5.732829\n",
      "7       907.956563      22.633035       864.077169        6.986036\n",
      "8       892.405314      22.725397       841.393412        4.732379\n",
      "9       884.705729      22.890284       831.436015        4.977935\n",
      "10      878.911926      22.400067       824.210897        4.832237\n",
      "11      876.645019      21.250059       818.028626        3.092222\n",
      "12      873.263834      21.075153       813.637003        3.263474\n",
      "13      871.895467      20.940928       810.762024        3.496882\n",
      "14      871.440165      22.211725       806.838704        4.512457\n",
      "15      869.728922      23.937871       802.533610        4.402468\n",
      "16      868.775187      23.987316       800.653686        4.413668\n",
      "17      867.675334      23.417192       798.298116        5.504212\n",
      "18      867.692607      24.189124       794.055216        3.948154\n",
      "19      866.556661      24.766894       792.325378        3.717969\n",
      "20      868.074178      23.718365       789.255717        4.205422\n",
      "21      868.403097      24.849062       786.273946        4.282760\n",
      "22      867.671977      24.638719       784.951863        4.348766\n",
      "23      866.914958      24.260496       781.322103        3.514563\n",
      "24      866.058309      23.969266       778.996460        3.109891\n",
      "25      865.161601      23.706277       777.633952        3.746928\n",
      "26      865.412435      22.559218       775.522033        3.719861\n",
      "27      865.484965      23.131094       774.312358        4.167781\n",
      "28      865.047241      22.923932       772.827067        4.475570\n",
      "29      864.993042      22.905102       771.864970        4.139005\n",
      "30      863.907837      22.913974       770.479574        4.645285\n",
      "31      863.905253      22.869330       769.626648        4.906976\n",
      "32      865.446187      22.723303       766.268941        2.962238\n",
      "33      864.969299      22.635094       764.422282        3.933037\n",
      "34      865.207682      22.884411       763.403768        3.675297\n",
      "35      865.886352      21.799572       762.205159        3.026329\n",
      "36      865.778422      21.778629       761.185038        2.860141\n",
      "37      865.272237      22.285559       759.549744        2.723484\n",
      "38      864.821106      22.037903       758.453349        3.171002\n",
      "39      863.571798      23.369003       756.154562        3.660845\n",
      "40      863.661947      23.904909       754.555603        2.726494\n",
      "41      863.015706      24.493111       753.745850        2.736191\n",
      "42      862.581279      24.621413       752.164876        2.212347\n",
      "43      862.569662      24.966527       750.981547        2.168342\n",
      "44      863.107198      23.789952       748.705994        3.014154\n",
      "45      862.979472      23.952969       747.798747        3.270461\n",
      "46      862.539063      23.745622       746.974609        3.001799\n",
      "47      862.242513      24.078191       746.158813        3.381533\n",
      "48      861.593628      23.922572       744.975973        3.513086\n",
      "49      860.967346      24.172909       743.992818        3.500680\n"
     ]
    }
   ],
   "source": [
    "# Create your housing DMatrix: housing_dmatrix\n",
    "housing_dmatrix = xgb.DMatrix(data=train, label= target)\n",
    "\n",
    "# Create the parameter dictionary for each tree: params\n",
    "params = {\"objective\":\"reg:linear\", \"max_depth\":5}\n",
    "\n",
    "# Perform cross-validation with early stopping: cv_results\n",
    "cv_results = xgb.cv(dtrain = housing_dmatrix, params= params, num_boost_round=450, early_stopping_rounds=10, metrics =\"rmse\", as_pandas=True, seed= 123)\n",
    "\n",
    "# Print cv_results\n",
    "print(cv_results)\n"
   ]
  },
  {
   "cell_type": "markdown",
   "metadata": {},
   "source": [
    "# Gradient boosting regressor"
   ]
  },
  {
   "cell_type": "code",
   "execution_count": 112,
   "metadata": {},
   "outputs": [
    {
     "name": "stdout",
     "output_type": "stream",
     "text": [
      "gradBoost score on test set:  747.988695618\n"
     ]
    }
   ],
   "source": [
    "model = GradientBoostingRegressor(n_estimators=3000, learning_rate=0.5,\n",
    "                                   max_depth=4, max_features='sqrt',\n",
    "                                  min_samples_leaf=15, min_samples_split=10, \n",
    "                                    loss='huber', random_state =5)\n",
    "\n",
    "\n",
    "model.fit(X_train, y_train)\n",
    "pred_xgb = model.predict(X_test)\n",
    "print(\"gradBoost score on test set: \", rmse(y_test, pred_xgb))"
   ]
  },
  {
   "cell_type": "markdown",
   "metadata": {},
   "source": [
    "# Random Forest"
   ]
  },
  {
   "cell_type": "code",
   "execution_count": 79,
   "metadata": {
    "collapsed": true
   },
   "outputs": [],
   "source": [
    "### Running Random Forest\n",
    "def runRF(train_X, train_y, test_X, test_y, depth=20, leaf=10, feat=0.2):\n",
    "    model = RandomForestRegressor( n_estimators = 1000,\n",
    "                    max_depth = depth,\n",
    "                    min_samples_split = 2,\n",
    "                    min_samples_leaf = leaf,\n",
    "                    max_features =  feat,\n",
    "                    n_jobs = 4,\n",
    "                    random_state = 0)\n",
    "    model.fit(train_X, train_y)\n",
    "    train_preds = model.predict(train_X)\n",
    "    test_preds = model.predict(test_X)\n",
    "    test_loss = 0\n",
    "    train_loss = metrics.mean_squared_error(train_y, train_preds)\n",
    "    test_loss = metrics.mean_squared_error(test_y, test_preds)\n",
    "    print(\"Train and Test loss : \", train_loss, test_loss)\n",
    "    return test_preds, test_loss, model"
   ]
  },
  {
   "cell_type": "code",
   "execution_count": 80,
   "metadata": {},
   "outputs": [
    {
     "name": "stdout",
     "output_type": "stream",
     "text": [
      "Train and Test loss :  609226.028854 671570.13464\n"
     ]
    }
   ],
   "source": [
    "from sklearn import metrics\n",
    "rf_test, rf_loss,model_rf  = runRF(X_train, y_train, X_test, y_test)"
   ]
  },
  {
   "cell_type": "code",
   "execution_count": 82,
   "metadata": {},
   "outputs": [
    {
     "name": "stdout",
     "output_type": "stream",
     "text": [
      "RMSE: 819.493828\n"
     ]
    }
   ],
   "source": [
    "# Compute and print the RMSE\n",
    "rmse = np.sqrt(mean_squared_error(y_test,rf_test))\n",
    "print(\"RMSE: %f\" % (rmse))"
   ]
  },
  {
   "cell_type": "markdown",
   "metadata": {},
   "source": [
    "# Lightgbm"
   ]
  },
  {
   "cell_type": "code",
   "execution_count": 187,
   "metadata": {
    "collapsed": true
   },
   "outputs": [],
   "source": [
    "import lightgbm as lgb"
   ]
  },
  {
   "cell_type": "code",
   "execution_count": 194,
   "metadata": {
    "collapsed": true
   },
   "outputs": [],
   "source": [
    "def runLGB(train_X, train_y, test_X, test_y, test_X2=None, feature_names=None, seed_val=0, rounds=500, dep=8, eta=0.05):\n",
    "    params = {}\n",
    "    params[\"objective\"] = \"regression\"\n",
    "    params['metric'] = 'rmse'\n",
    "    params[\"max_depth\"] = dep\n",
    "    params[\"min_data_in_leaf\"] = 20\n",
    "    params[\"learning_rate\"] = eta\n",
    "    params[\"bagging_fraction\"] = 0.7\n",
    "    params[\"feature_fraction\"] = 0.7\n",
    "    params[\"bagging_freq\"] = 5\n",
    "    params[\"bagging_seed\"] = seed_val\n",
    "    params[\"verbosity\"] = 0\n",
    "    num_rounds = rounds\n",
    "    \n",
    "    lgtrain = lgb.Dataset(train_X, label=train_y)\n",
    "    \n",
    "    lgtest = lgb.Dataset(test_X, label=test_y)\n",
    "    model = lgb.train(params, lgtrain, num_rounds, valid_sets=[lgtest], early_stopping_rounds=100, verbose_eval=20)\n",
    "    pred_test_y = model.predict(test_X, num_iteration=model.best_iteration)\n",
    "    \n",
    "    loss = 0\n",
    "    loss = metrics.mean_squared_error(test_y, pred_test_y)\n",
    "    print(loss)\n",
    "    return pred_test_y, loss, model\n"
   ]
  },
  {
   "cell_type": "code",
   "execution_count": 191,
   "metadata": {
    "collapsed": true
   },
   "outputs": [],
   "source": []
  },
  {
   "cell_type": "code",
   "execution_count": 195,
   "metadata": {},
   "outputs": [
    {
     "name": "stdout",
     "output_type": "stream",
     "text": [
      "Training until validation scores don't improve for 100 rounds.\n",
      "[20]\tvalid_0's rmse: 845.277\n",
      "[40]\tvalid_0's rmse: 804.847\n",
      "[60]\tvalid_0's rmse: 790.813\n",
      "[80]\tvalid_0's rmse: 784.582\n",
      "[100]\tvalid_0's rmse: 781.06\n",
      "[120]\tvalid_0's rmse: 778.499\n",
      "[140]\tvalid_0's rmse: 776.34\n",
      "[160]\tvalid_0's rmse: 775.992\n",
      "[180]\tvalid_0's rmse: 774.518\n",
      "[200]\tvalid_0's rmse: 777.366\n",
      "[220]\tvalid_0's rmse: 777.206\n",
      "[240]\tvalid_0's rmse: 776.243\n",
      "[260]\tvalid_0's rmse: 776.337\n",
      "Early stopping, best iteration is:\n",
      "[176]\tvalid_0's rmse: 774.417\n",
      "599721.127618\n"
     ]
    }
   ],
   "source": [
    "pred_test_lgm, loss_lgm, model_lgm = runLGB(X_train, y_train, X_test, y_test)"
   ]
  },
  {
   "cell_type": "code",
   "execution_count": 196,
   "metadata": {},
   "outputs": [
    {
     "name": "stdout",
     "output_type": "stream",
     "text": [
      "RMSE: 774.416637\n"
     ]
    }
   ],
   "source": [
    "# Compute and print the RMSE\n",
    "rmse = np.sqrt(mean_squared_error(y_test,pred_test_lgm))\n",
    "print(\"RMSE: %f\" % (rmse))"
   ]
  },
  {
   "cell_type": "code",
   "execution_count": null,
   "metadata": {
    "collapsed": true
   },
   "outputs": [],
   "source": []
  }
 ],
 "metadata": {
  "kernelspec": {
   "display_name": "Python 3",
   "language": "python",
   "name": "python3"
  },
  "language_info": {
   "codemirror_mode": {
    "name": "ipython",
    "version": 3
   },
   "file_extension": ".py",
   "mimetype": "text/x-python",
   "name": "python",
   "nbconvert_exporter": "python",
   "pygments_lexer": "ipython3",
   "version": "3.6.1"
  }
 },
 "nbformat": 4,
 "nbformat_minor": 2
}
