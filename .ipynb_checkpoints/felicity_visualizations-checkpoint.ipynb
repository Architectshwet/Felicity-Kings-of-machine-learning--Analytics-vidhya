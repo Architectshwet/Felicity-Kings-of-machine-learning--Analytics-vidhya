{
 "cells": [
  {
   "cell_type": "code",
   "execution_count": null,
   "metadata": {
    "_cell_guid": "8d244f42-0ab0-4892-bd23-e12443ff2224",
    "_uuid": "cac067db7f6868f8660d5ab72f04d4b7c72950cd",
    "collapsed": true
   },
   "outputs": [],
   "source": [
    "# This Python 3 environment comes with many helpful analytics libraries installed\n",
    "# It is defined by the kaggle/python docker image: https://github.com/kaggle/docker-python\n",
    "# For example, here's several helpful packages to load in \n",
    "\n",
    "import numpy as np # linear algebra\n",
    "import pandas as pd # data processing, CSV file I/O (e.g. pd.read_csv)\n",
    "\n",
    "# Input data files are available in the \"../input/\" directory.\n",
    "# For example, running this (by clicking run or pressing Shift+Enter) will list the files in the input directory\n",
    "\n",
    "from subprocess import check_output\n",
    "print(check_output([\"ls\", \"../input\"]).decode(\"utf8\"))\n",
    "\n",
    "# Any results you write to the current directory are saved as output."
   ]
  },
  {
   "cell_type": "code",
   "execution_count": 1,
   "metadata": {
    "_cell_guid": "0aa5df59-45c2-4758-91a6-554261792bd7",
    "_kg_hide-output": true,
    "_uuid": "ac90e2f6a94fd6b76fc53d89173c194c9dfb9661"
   },
   "outputs": [
    {
     "name": "stderr",
     "output_type": "stream",
     "text": [
      "C:\\Users\\Architect_shwet\\Anaconda3\\lib\\site-packages\\sklearn\\cross_validation.py:44: DeprecationWarning: This module was deprecated in version 0.18 in favor of the model_selection module into which all the refactored classes and functions are moved. Also note that the interface of the new CV iterators are different from that of this module. This module will be removed in 0.20.\n",
      "  \"This module will be removed in 0.20.\", DeprecationWarning)\n"
     ]
    }
   ],
   "source": [
    "import pandas as pd\n",
    "import numpy as np\n",
    "import matplotlib.pyplot as plt\n",
    "import os\n",
    "import sys\n",
    "%matplotlib inline\n",
    "from sklearn.model_selection import train_test_split\n",
    "from sklearn.naive_bayes import MultinomialNB\n",
    "from sklearn.svm import LinearSVR\n",
    "from sklearn.ensemble import RandomForestRegressor, GradientBoostingRegressor, VotingClassifier\n",
    "from sklearn.linear_model import SGDRegressor, LinearRegression, BayesianRidge, Lasso, HuberRegressor\n",
    "from sklearn.linear_model import Ridge, RidgeCV, ElasticNet, LassoCV, LassoLarsCV\n",
    "import seaborn as sns\n",
    "sns.set(color_codes = True)\n",
    "from scipy import stats\n",
    "import xgboost as xgb \n",
    "np.random.seed(25)"
   ]
  },
  {
   "cell_type": "code",
   "execution_count": null,
   "metadata": {
    "_cell_guid": "25d58bf8-86cb-4738-a2d0-0e8ee754d057",
    "_kg_hide-output": true,
    "_uuid": "9c066bb9e7b7552434eb80d3c3045afed8fa2918",
    "collapsed": true
   },
   "outputs": [],
   "source": [
    "train9 = pd.read_csv(\"../input/train9.csv\")\n",
    "train1 = pd.read_csv(\"../input/train1.csv\")\n",
    "test9  = pd.read_csv(\"../input/test9.csv\")\n",
    "test1 = pd.read_csv(\"../input/test1.csv\")\n",
    "data = pd.read_csv(\"../input/hero_data.csv\")\n",
    "#print (train9.columns, train1.columns, test9.columns)\n",
    "\n"
   ]
  },
  {
   "cell_type": "code",
   "execution_count": null,
   "metadata": {
    "_cell_guid": "4d7bfe76-8aa6-4143-9810-9c1d6550ae7d",
    "_kg_hide-output": true,
    "_uuid": "aa4a57ce5921d410b8c1cd86998bff9c58940be9",
    "collapsed": true
   },
   "outputs": [],
   "source": [
    "train = train9.append(train1)\n",
    "train = train.append(test9)\n",
    "train = train.sort_values('user_id')\n",
    "train = pd.merge(train,data, how = 'left', on = 'hero_id')\n",
    "\n",
    "test = test1 \n",
    "test = pd.merge(test,data, how ='left', on = 'hero_id')\n",
    "\n",
    "print (train.isnull().sum(axis = 0), test.isnull().sum(axis = 0) )"
   ]
  },
  {
   "cell_type": "code",
   "execution_count": null,
   "metadata": {
    "_cell_guid": "225bf36c-f8ee-4568-98c1-4a5e5c6c0b53",
    "_kg_hide-output": true,
    "_uuid": "b46f0ac94d84ec3e98d47aee8582ab95b3619527",
    "collapsed": true
   },
   "outputs": [],
   "source": [
    "def splitroles(text):\n",
    "    try:\n",
    "        x = text.split(\":\")\n",
    "        if len(x) == 6:\n",
    "            return x\n",
    "        else:\n",
    "            for i in range(6-len(x)):\n",
    "                x.append(\"No label\")\n",
    "            return x\n",
    "    except:\n",
    "        return (\"No label\", \"No label\", \"No label\", \"No label\", \"No label\", \"No label\")"
   ]
  },
  {
   "cell_type": "code",
   "execution_count": null,
   "metadata": {
    "_cell_guid": "f219a064-971c-4b53-9994-306639164fb6",
    "_kg_hide-output": true,
    "_uuid": "a985fe061d73637501d422a4d4e56c27865b4665",
    "collapsed": true
   },
   "outputs": [],
   "source": [
    "train['role_1'], train['role_2'], train['role_3'], train['role_4'], train['role_5'], train['role_6'] = \\\n",
    "zip(*train['roles'].apply(lambda x: splitroles(x)))\n",
    "test['role_1'], test['role_2'], test['role_3'], test['role_4'], test['role_5'], test['role_6'] = \\\n",
    "zip(*test['roles'].apply(lambda x: splitroles(x)))\n",
    "\n",
    "train.head(5)"
   ]
  },
  {
   "cell_type": "code",
   "execution_count": null,
   "metadata": {
    "_cell_guid": "2d8697fa-1dd6-427f-bed5-57f3f1e59a53",
    "_kg_hide-output": true,
    "_uuid": "3605d22ea4ef7333d779bb65c8f0091cd8c11535",
    "collapsed": true
   },
   "outputs": [],
   "source": [
    "cat = [f for f in train.columns if train.dtypes[f] == 'object']\n",
    "non_cat = [k for k in train.columns if train.dtypes[k] != 'object']\n",
    "print ( \"There are {} numeric and {} categorical columns in train data \".format(len(non_cat), len(cat)))"
   ]
  },
  {
   "cell_type": "code",
   "execution_count": null,
   "metadata": {
    "_cell_guid": "78f62e47-dbc6-4734-9c39-f7aff5959deb",
    "_kg_hide-output": true,
    "_uuid": "fb5c26508d38809ac074cb6e864cfb55e0c89979",
    "collapsed": true
   },
   "outputs": [],
   "source": [
    "train = train.drop(['roles', 'id'], axis = 1)\n",
    "test = test.drop(['roles', 'id'], axis = 1 )"
   ]
  },
  {
   "cell_type": "code",
   "execution_count": null,
   "metadata": {
    "_cell_guid": "b0b2089a-71f1-46e1-b1c7-7588092bb000",
    "_kg_hide-output": true,
    "_uuid": "7c5f1318cd22276a6a7a09359767dedcf8c10616",
    "collapsed": true
   },
   "outputs": [],
   "source": [
    "cat = [f for f in train.columns if train.dtypes[f] == 'object']\n",
    "non_cat = [k for k in train.columns if train.dtypes[k] != 'object']\n",
    "print ( \"There are {} numeric and {} categorical columns in train data \".format(len(non_cat), len(cat)))"
   ]
  },
  {
   "cell_type": "code",
   "execution_count": null,
   "metadata": {
    "_cell_guid": "27284a7c-dd8b-41c4-9c39-ea99c727a706",
    "_kg_hide-output": true,
    "_uuid": "02d09facd2b5efd500727f5c62eddb0ba45dd4fe",
    "collapsed": true
   },
   "outputs": [],
   "source": [
    "print (train.primary_attr.value_counts(), train.attack_type.value_counts())\n",
    "print (test.primary_attr.value_counts(), test.attack_type.value_counts())"
   ]
  },
  {
   "cell_type": "code",
   "execution_count": null,
   "metadata": {
    "_cell_guid": "14d6ad74-e25f-45c7-aaf5-15e80aa272a4",
    "_kg_hide-output": true,
    "_uuid": "be78045f15a8c9d2846a4bff72c0101076cbca55",
    "collapsed": true
   },
   "outputs": [],
   "source": [
    "primary_attr_summary = train.groupby('primary_attr')\n",
    "attack_type_summary = train.groupby('attack_type')\n",
    "print(primary_attr_summary.mean(), attack_type_summary.mean())"
   ]
  },
  {
   "cell_type": "code",
   "execution_count": null,
   "metadata": {
    "_cell_guid": "7dc71c07-c826-4e2e-9956-e59cfab9f96d",
    "_uuid": "6c16c042ad46b12e4b5cf0783413da406e075c4f",
    "collapsed": true
   },
   "outputs": [],
   "source": [
    "train_primary_attr_agi = train[train['primary_attr'] == 'agi']\n",
    "train_primary_attr_int = train[train['primary_attr'] == 'int']\n",
    "train_primary_attr_str = train[train['primary_attr'] == 'str']\n",
    "train_attack_type_Ranged = train[train['attack_type'] == 'Ranged']\n",
    "train_attack_type_Melee = train[train['attack_type'] == 'Melee']"
   ]
  },
  {
   "cell_type": "code",
   "execution_count": null,
   "metadata": {
    "_cell_guid": "d2cb15a1-3078-454c-8512-6e3e239a1b45",
    "_uuid": "98eab84b4d8d538be2f95289080a2fc9322360b6",
    "collapsed": true
   },
   "outputs": [],
   "source": [
    "from scipy.stats import norm\n",
    "from sklearn.preprocessing import StandardScaler\n",
    "from scipy import stats\n",
    "\n",
    "#histogram and normal probability plot\n",
    "sns.distplot(train['kda_ratio'], fit=norm);\n",
    "fig = plt.figure()\n",
    "res = stats.probplot(train['kda_ratio'], plot=plt)"
   ]
  },
  {
   "cell_type": "code",
   "execution_count": null,
   "metadata": {
    "_cell_guid": "86ea6286-3616-425d-91f7-351647cfe9cf",
    "_uuid": "9f13401e9fd39c429c5b13310841c4a75ac168c7",
    "collapsed": true
   },
   "outputs": [],
   "source": [
    "sns.pairplot(train, hue=\"primary_attr\", size=3)"
   ]
  },
  {
   "cell_type": "code",
   "execution_count": null,
   "metadata": {
    "_cell_guid": "71d5e6d0-6237-43eb-86b7-8621362095f1",
    "_uuid": "c60be0933b0554ed2fb54cd966ebb7c4e2e98a80",
    "collapsed": true
   },
   "outputs": [],
   "source": [
    "sns.FacetGrid(train, hue=\"primary_attr\", size=6) \\\n",
    "   .map(sns.kdeplot, \"kda_ratio\") \\\n",
    "   .add_legend()"
   ]
  },
  {
   "cell_type": "code",
   "execution_count": null,
   "metadata": {
    "_cell_guid": "f636ee41-cb46-4998-88b5-b18f38e7a000",
    "_uuid": "3a6d8d41e3a9f0509a48380b8a31d751cff0813c",
    "collapsed": true
   },
   "outputs": [],
   "source": [
    "sns.FacetGrid(train, hue=\"primary_attr\", size=6) \\\n",
    "   .map(sns.kdeplot, \"num_games\") \\\n",
    "   .add_legend()"
   ]
  },
  {
   "cell_type": "code",
   "execution_count": null,
   "metadata": {
    "_cell_guid": "6e5a10fd-bcdf-4bf9-bcc6-971290f31a5a",
    "_uuid": "8c982e88452859205d4e89a8f0671c95310c0001",
    "collapsed": true
   },
   "outputs": [],
   "source": [
    "train.columns"
   ]
  },
  {
   "cell_type": "code",
   "execution_count": null,
   "metadata": {
    "_cell_guid": "7f27c451-f66e-4e14-a50c-9ff8c6ca472c",
    "_uuid": "b59d0692888928dfc5d118fb6c2a63f5940b270a",
    "collapsed": true
   },
   "outputs": [],
   "source": []
  },
  {
   "cell_type": "code",
   "execution_count": null,
   "metadata": {
    "_cell_guid": "36960057-8879-4704-bd8f-e99811114f25",
    "_uuid": "2c5eeae5fccd8f4a31c245b31f6232b7eb8d1411",
    "collapsed": true
   },
   "outputs": [],
   "source": [
    "#correlation matrix\n",
    "corrmat = train.corr()\n",
    "f, ax = plt.subplots(figsize=(12, 9))\n",
    "sns.heatmap(corrmat, vmax=.8, square=True);"
   ]
  },
  {
   "cell_type": "code",
   "execution_count": null,
   "metadata": {
    "_cell_guid": "37161af6-b313-4530-bcc9-fed530bf45a3",
    "_kg_hide-input": false,
    "_kg_hide-output": true,
    "_uuid": "bf441e94d773161f3e23ceebc730717098982d70",
    "collapsed": true
   },
   "outputs": [],
   "source": [
    "g = sns.FacetGrid(train, col = 'primary_attr')\n",
    "g.map(sns.boxplot, 'num_games')"
   ]
  },
  {
   "cell_type": "code",
   "execution_count": null,
   "metadata": {
    "_cell_guid": "9d27a0d8-66f2-48c0-a892-134414c276ae",
    "_uuid": "caae5f9e6660c44611cae0a175b48f47bf94daa5",
    "collapsed": true
   },
   "outputs": [],
   "source": [
    "var_name = \"num_wins\"\n",
    "plt.figure(figsize=(12,6))\n",
    "sns.regplot(x=var_name, y='num_games', data=train, scatter_kws={'alpha':0.5, 's':30})\n",
    "plt.xlabel(var_name, fontsize=12)\n",
    "plt.ylabel('num_games', fontsize=12)\n",
    "plt.title(\"Distribution of y variable with \"+var_name, fontsize=15)\n",
    "plt.show()"
   ]
  },
  {
   "cell_type": "code",
   "execution_count": null,
   "metadata": {
    "_cell_guid": "b71841c6-48e6-45aa-8d1f-6ab2242e40f9",
    "_uuid": "970ba377e3e384eba28ea5f6e0e94879b793afc3",
    "collapsed": true
   },
   "outputs": [],
   "source": []
  },
  {
   "cell_type": "code",
   "execution_count": null,
   "metadata": {
    "_cell_guid": "2a286175-489f-4bb6-985a-75b16039bbeb",
    "_uuid": "e4945aa924441ffa6e16c60bdecb814d23c102d7",
    "collapsed": true
   },
   "outputs": [],
   "source": [
    "\n",
    "\n",
    "non_cat = [f for f in train.columns if train.dtypes[f] != 'object']\n",
    "non_cat.remove('user_id')\n",
    "non_cat.remove('hero_id')\n",
    "non_cat.remove('num_games')\n",
    "p = pd.melt(train, id_vars='num_games', value_vars=non_cat)\n",
    "g = sns.FacetGrid (p, col='variable', col_wrap=2, sharex=False, sharey=False, size=5)\n",
    "g = g.map(sns.regplot, 'num_games','value', scatter_kws={'alpha':0.5, 's':30})\n",
    "g"
   ]
  },
  {
   "cell_type": "code",
   "execution_count": null,
   "metadata": {
    "_cell_guid": "c1775dd3-397a-4138-9bd8-de3fa533f255",
    "_uuid": "ed53b71903e8d037c44c313d2b2c2fbd97132b99",
    "collapsed": true
   },
   "outputs": [],
   "source": [
    "non_cat = [f for f in train.columns if train.dtypes[f] != 'object']\n",
    "non_cat.remove('user_id')\n",
    "non_cat.remove('hero_id')\n",
    "non_cat.remove('num_wins')\n",
    "p = pd.melt(train, id_vars='num_wins', value_vars=non_cat)\n",
    "g = sns.FacetGrid (p, col='variable', col_wrap=2, sharex=False, sharey=False, size=5)\n",
    "g = g.map(sns.regplot, 'num_wins','value', scatter_kws={'alpha':0.5, 's':30})\n",
    "g"
   ]
  },
  {
   "cell_type": "code",
   "execution_count": null,
   "metadata": {
    "_cell_guid": "46f05bf7-d5f2-4f5d-8870-0bea57b03d3b",
    "_uuid": "3b9e4994398c08eed6a93eebc99cc01a66357cbd",
    "collapsed": true
   },
   "outputs": [],
   "source": [
    "non_cat = [f for f in train.columns if train.dtypes[f] != 'object']\n",
    "non_cat.remove('user_id')\n",
    "non_cat.remove('hero_id')\n",
    "non_cat.remove('kda_ratio')\n",
    "p = pd.melt(train, id_vars='kda_ratio', value_vars=non_cat)\n",
    "g = sns.FacetGrid (p, col='variable', col_wrap=2, sharex=False, sharey=False, size=5)\n",
    "g = g.map(sns.regplot, 'kda_ratio','value', scatter_kws={'alpha':0.5, 's':30})\n",
    "g"
   ]
  },
  {
   "cell_type": "code",
   "execution_count": null,
   "metadata": {
    "_cell_guid": "dda39f81-8b6e-4aa5-aa74-b2740f73847e",
    "_uuid": "cdc599c941f3059e6e00158945b56cf6681248cc",
    "collapsed": true
   },
   "outputs": [],
   "source": [
    "#correlation matrix\n",
    "corrmat = train.corr()\n",
    "f, ax = plt.subplots(figsize=(12, 9))\n",
    "sns.heatmap(corrmat, vmax=.8, square=True);"
   ]
  },
  {
   "cell_type": "code",
   "execution_count": null,
   "metadata": {
    "_cell_guid": "1d09997a-cb3a-4ced-a727-51a7328b4549",
    "_uuid": "72599e7e44412b239207a454f48ae95d2b5ac2f6",
    "collapsed": true
   },
   "outputs": [],
   "source": [
    "def boxplot(x,y,**kwargs):\n",
    "            sns.boxplot(x=x,y=y)\n",
    "            x = plt.xticks(rotation=90)\n",
    "\n",
    "non_cat = [f for f in train.columns if train.dtypes[f] != 'object']\n",
    "non_cat.remove('user_id')\n",
    "non_cat.remove('hero_id')\n",
    "p = pd.melt(train, id_vars='attack_type', value_vars=non_cat)\n",
    "g = sns.FacetGrid (p, col='variable', col_wrap=2, sharex=False, sharey=False, size=5)\n",
    "g = g.map(boxplot, 'attack_type','value')\n",
    "g4"
   ]
  },
  {
   "cell_type": "code",
   "execution_count": null,
   "metadata": {
    "_cell_guid": "150f9fbf-b3da-4282-8ad0-e247a6f3eb00",
    "_uuid": "712409e41d50c7bc277ffb3cd274f14de2062391",
    "collapsed": true
   },
   "outputs": [],
   "source": []
  },
  {
   "cell_type": "code",
   "execution_count": null,
   "metadata": {
    "_cell_guid": "fb3bab4f-e1b7-49e1-9051-5969184589ab",
    "_uuid": "b1e6726c2b436df6576b70cb5faac4c3641cb816",
    "collapsed": true
   },
   "outputs": [],
   "source": [
    "def boxplot(x,y,**kwargs):\n",
    "            sns.boxplot(x=x,y=y)\n",
    "            x = plt.xticks(rotation=90)\n",
    "\n",
    "non_cat = [f for f in train.columns if train.dtypes[f] != 'object']\n",
    "non_cat.remove('user_id')\n",
    "non_cat.remove('hero_id')\n",
    "p = pd.melt(train, id_vars='primary_attr', value_vars=non_cat)\n",
    "g = sns.FacetGrid (p, col='variable', col_wrap=2, sharex=False, sharey=False, size=5)\n",
    "g = g.map(boxplot, 'primary_attr','value')\n",
    "g"
   ]
  },
  {
   "cell_type": "code",
   "execution_count": null,
   "metadata": {
    "_cell_guid": "f66161c8-8bcb-430c-b8b0-f416bd1df94b",
    "_uuid": "f69b15ee1025eb96e94bf86de5c42f2a2d22f1e5",
    "collapsed": true
   },
   "outputs": [],
   "source": [
    "#Uses multiple x and y variables to form pair grid of categorical values passed\n",
    "\n",
    "non_cat = [f for f in train.columns if train.dtypes[f] != 'object']\n",
    "non_cat.remove('user_id')\n",
    "non_cat.remove('hero_id')\n",
    "\n",
    "g = sns.PairGrid(train,\n",
    "                 x_vars=[\"attack_type\",\"primary_attr\"],\n",
    "                 y_vars=non_cat,\n",
    "                 aspect=.75, size=6)\n",
    "plt.xticks(rotation=90)\n",
    "g.map(sns.barplot, palette=\"pastel\");"
   ]
  },
  {
   "cell_type": "code",
   "execution_count": null,
   "metadata": {
    "_cell_guid": "3188a9b1-1fbf-4282-a3eb-f16c414e9f42",
    "_uuid": "4ad1da563e97a0b3a332003049e64f5c5e7a3b98",
    "collapsed": true
   },
   "outputs": [],
   "source": [
    "non_cat = [f for f in train.columns if train.dtypes[f] != 'object']\n",
    "non_cat.remove('user_id')\n",
    "non_cat.remove('hero_id')\n",
    "\n",
    "g = sns.PairGrid(train,\n",
    "                 x_vars=[\"attack_type\",\"primary_attr\"],\n",
    "                 y_vars=non_cat,\n",
    "                 aspect=.75, size=6)\n",
    "plt.xticks(rotation=90)\n",
    "g.map(sns.stripplot, palette=\"pastel\");"
   ]
  },
  {
   "cell_type": "code",
   "execution_count": null,
   "metadata": {
    "_cell_guid": "3eed2aee-4d0d-4921-8c8e-f881028dc744",
    "_uuid": "747cb1740a3913063c676d42e72f40cf393c6406",
    "collapsed": true
   },
   "outputs": [],
   "source": []
  },
  {
   "cell_type": "code",
   "execution_count": null,
   "metadata": {
    "_cell_guid": "9761ea5a-da43-47a9-8486-107168e468f5",
    "_uuid": "2ad5e5d31e416942afa7bf4d877cbad32d301264",
    "collapsed": true
   },
   "outputs": [],
   "source": [
    "#Uses multiple x and y variables to form pair grid of categorical values passed\n",
    "\n",
    "non_cat = [f for f in train.columns if train.dtypes[f] != 'object']\n",
    "non_cat.remove('user_id')\n",
    "non_cat.remove('hero_id')\n",
    "\n",
    "g = sns.PairGrid(train,\n",
    "                 x_vars=[\"role_1\",\"role_2\"],\n",
    "                 y_vars=non_cat,\n",
    "                 aspect=.75, size=6)\n",
    "plt.xticks(rotation=45)\n",
    "g.map(sns.barplot, palette=\"pastel\");"
   ]
  },
  {
   "cell_type": "code",
   "execution_count": null,
   "metadata": {
    "_cell_guid": "3527b5e9-4f25-435f-a749-fc9d8d80eb9a",
    "_uuid": "875d7e1daa0acd320f15e927f8f62561d59f886b",
    "collapsed": true
   },
   "outputs": [],
   "source": [
    "#Uses multiple x and y variables to form pair grid of categorical values passed\n",
    "non_cat = [f for f in train.columns if train.dtypes[f] != 'object']\n",
    "non_cat.remove('user_id')\n",
    "non_cat.remove('hero_id')\n",
    "\n",
    "g = sns.PairGrid(train,\n",
    "                 x_vars=[\"attack_type\",\"primary_attr\"],\n",
    "                 y_vars=non_cat,\n",
    "                 aspect=0.75, size=9)\n",
    "plt.xticks(rotation=45)\n",
    "g.map(sns.violinplot, palette=\"pastel\");"
   ]
  },
  {
   "cell_type": "code",
   "execution_count": null,
   "metadata": {
    "_cell_guid": "488ce004-a91e-41d4-94a9-709f3b74ab6d",
    "_uuid": "5412a3d9f1b7e2b965bee2ee00bfcafcf28e0930",
    "collapsed": true
   },
   "outputs": [],
   "source": [
    "#Uses multiple x and y variables to form pair grid of categorical values passed\n",
    "\n",
    "non_cat = [f for f in train.columns if train.dtypes[f] != 'object']\n",
    "non_cat.remove('user_id')\n",
    "non_cat.remove('hero_id')\n",
    "\n",
    "g = sns.PairGrid(train,\n",
    "                 x_vars=[\"attack_type\",\"primary_attr\"],\n",
    "                 y_vars=non_cat,\n",
    "                 aspect=0.75, size=9)\n",
    "plt.xticks(rotation=45)\n",
    "g.map(sns.pointplot);"
   ]
  },
  {
   "cell_type": "code",
   "execution_count": null,
   "metadata": {
    "_cell_guid": "a5965a88-ba0f-41a6-8951-9cdee86ebf66",
    "_uuid": "cc027607e71b09fab5ec73b1a946afda79f8012b",
    "collapsed": true
   },
   "outputs": [],
   "source": [
    "sns.jointplot(x = \"move_speed\", y=\"attack_rate\", data = train, kind = \"reg\")"
   ]
  },
  {
   "cell_type": "code",
   "execution_count": null,
   "metadata": {
    "_cell_guid": "a78eb127-2149-4720-83df-57397923caac",
    "_uuid": "a2e5a5381ebc19062344d64dbfa341c623220245",
    "collapsed": true
   },
   "outputs": [],
   "source": [
    "fig, axes = plt.subplots(nrows = 1, ncols=2,figsize=(12,6))\n",
    "\n",
    "g = sns.jointplot(x = \"move_speed\", y=\"attack_rate\", data = train, kind = \"reg\",  ax=axes[0])\n",
    "g = sns.jointplot(x = \"num_games\", y=\"num_wins\", data = train, kind = \"reg\",  ax=axes[1])\n",
    "\n",
    "plt.tight_layout()\n",
    "plt.show()\n",
    "plt.gcf().clear()"
   ]
  },
  {
   "cell_type": "code",
   "execution_count": null,
   "metadata": {
    "_cell_guid": "2bdf16ba-0b27-46f2-841e-f09c88c785ba",
    "_uuid": "e53c1f914da739f0b318b9741eb5f467933af451",
    "collapsed": true
   },
   "outputs": [],
   "source": []
  },
  {
   "cell_type": "code",
   "execution_count": null,
   "metadata": {
    "_cell_guid": "9b099cf8-3928-4f3c-8b1d-73451a1f79ca",
    "_uuid": "0b3bd488100414d9a63287abcc68922f548aca27",
    "collapsed": true
   },
   "outputs": [],
   "source": [
    "\n"
   ]
  },
  {
   "cell_type": "code",
   "execution_count": null,
   "metadata": {
    "_cell_guid": "b01fa1b4-d85d-4e45-8f2c-220bc536e878",
    "_uuid": "1eb806e5a6f653c9132c859c1c5ce91689799a56",
    "collapsed": true
   },
   "outputs": [],
   "source": [
    "dtypes_df = pd.DataFrame()\n",
    "dtype_df = train.dtypes.reset_index()\n",
    "dtype_df.columns = [\"variable\", \"type\"]\n",
    "dtype_df"
   ]
  },
  {
   "cell_type": "code",
   "execution_count": null,
   "metadata": {
    "_cell_guid": "2be52715-dd3a-4ec0-99f0-cfad9a4e91a3",
    "_uuid": "e521f9028971e06a659e66bffc72cd02afcde4d7",
    "collapsed": true
   },
   "outputs": [],
   "source": [
    "dtype_df.groupby(\"type\").aggregate('count').reset_index()"
   ]
  },
  {
   "cell_type": "code",
   "execution_count": null,
   "metadata": {
    "_cell_guid": "75a6ac61-9da5-4cfa-b619-4cee5f639237",
    "_uuid": "de6560d32da2242cbc43bdb3bf4ec0666da0bf59",
    "collapsed": true
   },
   "outputs": [],
   "source": []
  },
  {
   "cell_type": "code",
   "execution_count": null,
   "metadata": {
    "_cell_guid": "421275a1-4c68-4cec-a7f3-42154e20fe1f",
    "_uuid": "7d9ad9211f2ac338577164c2bc19f9a4a9a6839a",
    "collapsed": true
   },
   "outputs": [],
   "source": []
  },
  {
   "cell_type": "code",
   "execution_count": null,
   "metadata": {
    "_cell_guid": "2c144d01-8af7-483e-954b-787cb5167952",
    "_uuid": "710ab9ff1cb72332f3e7cb426f51518cef91094c",
    "collapsed": true
   },
   "outputs": [],
   "source": []
  },
  {
   "cell_type": "code",
   "execution_count": null,
   "metadata": {
    "_cell_guid": "db006ca8-4bb8-417f-b8e1-368a9e4ccbd0",
    "_uuid": "76927aa62d279e6f70164d5da57bb7ba1f28e8f5",
    "collapsed": true
   },
   "outputs": [],
   "source": [
    "correlation = data.corr()\n",
    "plt.figure(figsize=(38,14))\n",
    "sns.heatmap(correlation, vmax=1, square=True,annot=True,cmap='terrain')\n",
    "plt.title('Correlation between different fearures' )"
   ]
  },
  {
   "cell_type": "code",
   "execution_count": null,
   "metadata": {
    "_cell_guid": "99b5e959-a257-4772-8be1-d9790544edc4",
    "_uuid": "bedfa2a16c324e10974d14c4e2d4a7708e5866a4",
    "collapsed": true
   },
   "outputs": [],
   "source": [
    "fig = plt.figure(figsize=(12,6),)\n",
    "ax=sns.kdeplot(train.loc[(train['primary_attr'] == 'agi'),'projectile_speed'] , color='b',shade=True,label='agi')\n",
    "ax=sns.kdeplot(train.loc[(train['primary_attr'] == 'int'),'projectile_speed'] , color='r',shade=True, label='int')\n",
    "ax=sns.kdeplot(train.loc[(train['primary_attr'] == 'str'),'projectile_speed'] , color='g',shade=True, label='str')\n",
    "plt.xlabel(\"projectile_speed\")\n",
    "plt.title('projectile primary_attr')"
   ]
  },
  {
   "cell_type": "code",
   "execution_count": null,
   "metadata": {
    "_cell_guid": "b34e597c-0f6c-4e60-9616-a828522d9119",
    "_uuid": "cccb57912d44fdf0594679658ff2f8deb9f4a21a",
    "collapsed": true
   },
   "outputs": [],
   "source": [
    "fig = plt.figure(figsize=(12,6),)\n",
    "ax=sns.kdeplot(train.loc[(train['primary_attr'] == 'agi'),'attack_rate'] , color='b',shade=True,label='agi')\n",
    "ax=sns.kdeplot(train.loc[(train['primary_attr'] == 'int'),'attack_rate'] , color='r',shade=True, label='int')\n",
    "ax=sns.kdeplot(train.loc[(train['primary_attr'] == 'str'),'attack_rate'] , color='g',shade=True, label='str')\n",
    "plt.xlabel(\"attack_rate\")\n",
    "plt.title('attack_rate primary_attr')"
   ]
  },
  {
   "cell_type": "code",
   "execution_count": null,
   "metadata": {
    "_cell_guid": "5aa13a45-991d-4db8-96fd-7894c5254eaf",
    "_uuid": "3741fc206ef6b36d70a6d3170688b686bc9262d2",
    "collapsed": true
   },
   "outputs": [],
   "source": [
    "fig = plt.figure(figsize=(10,4),)\n",
    "ax=sns.kdeplot(train.loc[(train['primary_attr'] == 'agi'),'move_speed'] , color='b',shade=True,label='agi')\n",
    "ax=sns.kdeplot(train.loc[(train['primary_attr'] == 'int'),'move_speed'] , color='r',shade=True, label='int')\n",
    "ax=sns.kdeplot(train.loc[(train['primary_attr'] == 'str'),'move_speed'] , color='g',shade=True, label='str')\n",
    "plt.xlabel(\"move_speed\")\n",
    "plt.title('move_speed primary_attr')"
   ]
  },
  {
   "cell_type": "code",
   "execution_count": null,
   "metadata": {
    "_cell_guid": "1d67e9e7-8b41-4445-8ec1-68e0e6aa065d",
    "_uuid": "387c811344d5ec1965e16d116692920e439aeb20",
    "collapsed": true
   },
   "outputs": [],
   "source": [
    "fig = plt.figure(figsize=(12,6),)\n",
    "ax=sns.kdeplot(train.loc[(train['primary_attr'] == 'agi'),'turn_rate'] , color='b',shade=True,label='agi')\n",
    "ax=sns.kdeplot(train.loc[(train['primary_attr'] == 'int'),'turn_rate'] , color='r',shade=True, label='int')\n",
    "ax=sns.kdeplot(train.loc[(train['primary_attr'] == 'str'),'turn_rate'] , color='g',shade=True, label='str')\n",
    "plt.xlabel(\"turn_rate\")\n",
    "plt.title('turn_rate primary_attr')"
   ]
  },
  {
   "cell_type": "code",
   "execution_count": null,
   "metadata": {
    "_cell_guid": "c3d5f1c8-e5f1-4857-b51d-dc2bc8e6ab13",
    "_uuid": "7967ff5b4d3ecdc517c265b9455ee3bf234fc936",
    "collapsed": true
   },
   "outputs": [],
   "source": [
    "\n",
    "\n",
    "non_cat = [f for f in train.columns if train.dtypes[f] != 'object']\n",
    "non_cat.remove('user_id')\n",
    "non_cat.remove('hero_id')\n",
    "p = pd.melt(train, id_vars='attack_type', value_vars=non_cat)\n",
    "g = sns.FacetGrid (p, col='variable', col_wrap=2, sharex=False, sharey=False, size=5)\n",
    "g = g.map(sns.boxplot,'attack_type', 'value')\n",
    "g"
   ]
  },
  {
   "cell_type": "code",
   "execution_count": null,
   "metadata": {
    "_cell_guid": "76676658-5866-40db-9ad0-9af23e924974",
    "_uuid": "09e2e0b3f00d86708f290e628c2f89c49fdc4141",
    "collapsed": true
   },
   "outputs": [],
   "source": [
    "#create numeric plots\n",
    "num = [f for f in train.columns if train.dtypes[f] != 'object']\n",
    "\n",
    "num.remove('user_id')\n",
    "num.remove('hero_id')\n",
    "\n",
    "nd = pd.melt(train, value_vars = num)\n",
    "n1 = sns.FacetGrid (nd, col='variable', col_wrap=4, sharex=False, sharey = False)\n",
    "n1 = n1.map(sns.distplot, 'value')\n",
    "n1"
   ]
  },
  {
   "cell_type": "code",
   "execution_count": null,
   "metadata": {
    "_cell_guid": "cfb40f1f-71cf-4611-a587-92bc0ca42f83",
    "_uuid": "77d6c089e715e6675d83c1ac271afb8aa129cf72",
    "collapsed": true
   },
   "outputs": [],
   "source": [
    "#create numeric plots\n",
    "num = [f for f in train.columns if train.dtypes[f] != 'object']\n",
    "\n",
    "num.remove('user_id')\n",
    "num.remove('hero_id')\n",
    "\n",
    "nd = pd.melt(train, value_vars = num)\n",
    "n1 = sns.FacetGrid (nd, col='variable', col_wrap=4, sharex=False, sharey = False)\n",
    "n1 = n1.map(sns.countplot, 'value')\n",
    "n1"
   ]
  },
  {
   "cell_type": "code",
   "execution_count": null,
   "metadata": {
    "_cell_guid": "611fc2ee-0ff9-41fe-9ba6-7b311c8789be",
    "_uuid": "f11eaa1799e9c901cfb679be2d4feaaed15e30e8",
    "collapsed": true
   },
   "outputs": [],
   "source": [
    "list(train.columns)"
   ]
  },
  {
   "cell_type": "code",
   "execution_count": null,
   "metadata": {
    "_cell_guid": "3a717756-2aca-4396-bb65-f976d32449c9",
    "_uuid": "3485a89c18979c7edc2c9ea265e09449300ab0a2",
    "collapsed": true
   },
   "outputs": [],
   "source": [
    "plt.figure(figsize=(16,16))\n",
    "g = (sns.jointplot(\"projectile_speed\", \"move_speed\",data=train, color=\"k\").plot_joint(sns.kdeplot, zorder=0))"
   ]
  },
  {
   "cell_type": "code",
   "execution_count": null,
   "metadata": {
    "_cell_guid": "3818cbc7-4821-4ca4-ada7-0f415272c83b",
    "_uuid": "1230e1a204a0a69d25bf52eef32b57ea6acc754d",
    "collapsed": true
   },
   "outputs": [],
   "source": []
  },
  {
   "cell_type": "code",
   "execution_count": null,
   "metadata": {
    "_cell_guid": "806d184f-f20a-404b-90db-1410336fe6a9",
    "_uuid": "6eb41ff1720b706ba056fac79ba2671c0578f722",
    "collapsed": true
   },
   "outputs": [],
   "source": []
  },
  {
   "cell_type": "code",
   "execution_count": null,
   "metadata": {
    "_cell_guid": "c0442e93-44ec-4193-bcdd-e6ef7ceca597",
    "_uuid": "e56f151390dcce7e6afaf9097baef5dec990bdb8",
    "collapsed": true
   },
   "outputs": [],
   "source": [
    "fig, axes = plt.subplots(ncols=2,figsize=(12,6))\n",
    "\n",
    "g = sns.countplot(train[\"primary_attr\"], ax=axes[0]).set_title('num_games Distribution')\n",
    "axes[0].set_ylabel('num_games Count')\n",
    "#plt.setp(g.get_xticklabels(), rotation=45)\n",
    "g = sns.countplot(train[\"attack_type\"], ax=axes[1])\n",
    "\n",
    "plt.tight_layout()\n",
    "plt.show()\n",
    "plt.gcf().clear()"
   ]
  },
  {
   "cell_type": "code",
   "execution_count": null,
   "metadata": {
    "_cell_guid": "5960bb15-f3bd-47ab-8699-3f45d6eb304d",
    "_uuid": "a2bae7e2a04b793240200df103e1e326cd8cd1ac",
    "collapsed": true
   },
   "outputs": [],
   "source": [
    "fig, axes = plt.subplots(ncols=3,figsize=(12,6))\n",
    "\n",
    "g = sns.countplot(train[\"role_1\"], ax=axes[0])\n",
    "plt.setp(g.get_xticklabels(), rotation=90)\n",
    "g = sns.countplot(train[\"role_2\"], ax=axes[1])\n",
    "plt.setp(g.get_xticklabels(), rotation=90)\n",
    "g = sns.countplot(train[\"role_3\"], ax=axes[2])\n",
    "plt.setp(g.get_xticklabels(), rotation=90)\n",
    "\n",
    "plt.tight_layout()\n",
    "plt.show()\n",
    "plt.gcf().clear()"
   ]
  },
  {
   "cell_type": "code",
   "execution_count": null,
   "metadata": {
    "_cell_guid": "67f46050-8e5a-4047-8ab2-c9d4e47846b5",
    "_uuid": "fa7b80d21a933b49cd972c6f6e1a2bad1c64a795",
    "collapsed": true
   },
   "outputs": [],
   "source": [
    "fig, axes = plt.subplots(ncols=3,figsize=(12,6))\n",
    "\n",
    "g = sns.countplot(train[\"role_4\"], ax=axes[0])\n",
    "plt.setp(g.get_xticklabels(), rotation=90)\n",
    "g = sns.countplot(train[\"role_5\"], ax=axes[1])\n",
    "plt.setp(g.get_xticklabels(), rotation=90)\n",
    "g = sns.countplot(train[\"role_6\"], ax=axes[2])\n",
    "plt.setp(g.get_xticklabels(), rotation=90)\n",
    "\n",
    "plt.tight_layout()\n",
    "plt.show()\n",
    "plt.gcf().clear()"
   ]
  },
  {
   "cell_type": "code",
   "execution_count": null,
   "metadata": {
    "_cell_guid": "38bdb162-3ae4-4b98-9c2e-17d27e34de00",
    "_uuid": "43ce6da228bf114305a4bee783a90cd56137fa1a",
    "collapsed": true
   },
   "outputs": [],
   "source": [
    "flg, axes = plt.subplots(nrows = 1, ncols = 3, figsize = (14,6))\n",
    "\n",
    "sns.distplot(train['num_games'], ax = axes[0]).set_title('num_games Distribution')\n",
    "axes[0].set_ylabel('num_games Count')\n",
    "\n",
    "sns.distplot(train['num_wins'], color = \"r\", ax = axes[1]).set_title('num_wins Distribution')\n",
    "axes[1].set_ylabel('num_wins Count')\n",
    "\n",
    "sns.distplot(train['Kda_ratio'], color = \"g\", ax = axes[2]).set_title('kda_ratio Distribution')\n",
    "axes[2].set_ylabel('kda_ratio Count')\n",
    "\n",
    "plt.tight_layout()\n",
    "plt.show()\n",
    "plt.gcf().clear()"
   ]
  },
  {
   "cell_type": "code",
   "execution_count": null,
   "metadata": {
    "_cell_guid": "11d198b4-3d20-479b-985d-efbbcb5c627b",
    "_uuid": "b46e872a937c8e992dff0ba69a578af036530f0d",
    "collapsed": true
   },
   "outputs": [],
   "source": [
    "flg, axes = plt.subplots(nrows = 1, ncols = 3, figsize = (14,6))\n",
    "\n",
    "sns.distplot(train['base_health'], ax = axes[0]).set_title('base_health Distribution')\n",
    "axes[0].set_ylabel('base_health Count')\n",
    "\n",
    "sns.distplot(train['base_health_regen'], color = \"r\", ax = axes[1]).set_title('base_health_regen Distribution')\n",
    "axes[1].set_ylabel('base_health_regen Count')\n",
    "\n",
    "sns.distplot(train['base_mana'], color = \"g\", ax = axes[2]).set_title('base_mana Distribution')\n",
    "axes[2].set_ylabel('base_mana Count')\n",
    "\n",
    "plt.tight_layout()\n",
    "plt.show()"
   ]
  },
  {
   "cell_type": "code",
   "execution_count": null,
   "metadata": {
    "_cell_guid": "7cf9b7de-645c-4a96-ac6d-97a6384a46a2",
    "_uuid": "1fb1ade9436760f2f62fe9d520c5cb7e826153fd",
    "collapsed": true
   },
   "outputs": [],
   "source": [
    "flg, axes = plt.subplots(nrows = 1, ncols = 3, figsize = (14,6))\n",
    "\n",
    "sns.distplot(train['base_mana_regen'], ax = axes[0]).set_title('base_mana_regen Distribution')\n",
    "axes[0].set_ylabel('base_mana_regen Count')\n",
    "\n",
    "sns.distplot(train['base_health_regen'], color = \"r\", ax = axes[1]).set_title('base_health_regen Distribution')\n",
    "axes[1].set_ylabel('base_health_regen Count')\n",
    "\n",
    "sns.distplot(train['base_armor'],color = \"g\", ax = axes[2]).set_title('base_armor Distribution')\n",
    "axes[2].set_ylabel('base_armor Count')\n",
    "\n",
    "plt.tight_layout()\n",
    "plt.show()\n",
    "plt.gcf().clear()"
   ]
  },
  {
   "cell_type": "code",
   "execution_count": null,
   "metadata": {
    "_cell_guid": "8c31ea9e-6d05-4a06-a670-7a9c10a0d19f",
    "_uuid": "bc8ad969a5c14a2622511a07f989f9a87ab80855",
    "collapsed": true
   },
   "outputs": [],
   "source": [
    "flg, axes = plt.subplots(nrows = 1, ncols = 3, figsize = (14,6))\n",
    "\n",
    "sns.distplot(train['base_magic_resistance'], ax = axes[0]).set_title('base_magic_resistance Distribution')\n",
    "axes[0].set_ylabel('base_magic_resistance Count')\n",
    "\n",
    "sns.distplot(train['base_attack_min'], color = \"r\", ax = axes[1]).set_title('base_attack_min Distribution')\n",
    "axes[1].set_ylabel('base_attack_min Count')\n",
    "\n",
    "sns.distplot(train['base_attack_max'],color = \"g\", ax = axes[2]).set_title('base_attack_max Distribution')\n",
    "axes[2].set_ylabel('base_attack_max Count')\n",
    "\n",
    "plt.tight_layout()\n",
    "plt.show()\n",
    "plt.gcf().clear()"
   ]
  },
  {
   "cell_type": "code",
   "execution_count": null,
   "metadata": {
    "_cell_guid": "e6ae08ca-5ece-41c8-bc56-158792c774d6",
    "_uuid": "9a05f5b2d50134363006217e0c6e13c271bdfe9c",
    "collapsed": true
   },
   "outputs": [],
   "source": [
    "flg, axes = plt.subplots(nrows = 1, ncols = 3, figsize = (14,6))\n",
    "\n",
    "sns.distplot(train['base_strength'], ax = axes[0]).set_title('base_strength Distribution')\n",
    "axes[0].set_ylabel('base_strength Count')\n",
    "\n",
    "sns.distplot(train['base_agility'], color = \"r\", ax = axes[1]).set_title('base_agility Distribution')\n",
    "axes[1].set_ylabel('base_agility Count')\n",
    "\n",
    "sns.distplot(train['base_intelligence'],color = \"g\", ax = axes[2]).set_title('base_intelligence Distribution')\n",
    "axes[2].set_ylabel('base_intelligence Count')\n",
    "\n",
    "plt.tight_layout()\n",
    "plt.show()\n",
    "plt.gcf().clear()"
   ]
  },
  {
   "cell_type": "code",
   "execution_count": null,
   "metadata": {
    "_cell_guid": "ac33137a-4d3e-4729-8e8a-73115b406336",
    "_uuid": "0ba308a2c878598221f3a85703afee5887e7cc28",
    "collapsed": true
   },
   "outputs": [],
   "source": [
    "flg, axes = plt.subplots(nrows = 1, ncols = 3, figsize = (14,6))\n",
    "\n",
    "sns.distplot(train['strength_gain'], ax = axes[0]).set_title('strength_gain Distribution')\n",
    "axes[0].set_ylabel('strength_gain Count')\n",
    "\n",
    "sns.distplot(train['agility_gain'], color = \"r\", ax = axes[1]).set_title('agility_gain Distribution')\n",
    "axes[1].set_ylabel('agility_gain Count')\n",
    "\n",
    "sns.distplot(train['intelligence_gain'],color = \"g\", ax = axes[2]).set_title('intelligence_gain Distribution')\n",
    "axes[2].set_ylabel('intelligence_gain Count')\n",
    "\n",
    "plt.tight_layout()\n",
    "plt.show()\n",
    "plt.gcf().clear()"
   ]
  },
  {
   "cell_type": "code",
   "execution_count": null,
   "metadata": {
    "_cell_guid": "31be76e6-7984-4f80-a37b-6ca8734b7a98",
    "_uuid": "f7d214df1f8de6e06b28ad271b5ce594d2e8c39c",
    "collapsed": true
   },
   "outputs": [],
   "source": [
    "flg, axes = plt.subplots(nrows = 1, ncols = 3, figsize = (14,6))\n",
    "\n",
    "sns.distplot(train['attack_range'], ax = axes[0]).set_title('attack_range Distribution')\n",
    "axes[0].set_ylabel('attack_range Count')\n",
    "\n",
    "sns.distplot(train['agility_gain'], color = \"r\", ax = axes[1]).set_title('agility_gain Distribution')\n",
    "axes[1].set_ylabel('agility_gain Count')\n",
    "\n",
    "sns.distplot(train['projectile_speed'],color = \"g\", ax = axes[2]).set_title('projectile_speed Distribution')\n",
    "axes[2].set_ylabel('projectile_speed Count')\n",
    "\n",
    "plt.tight_layout()\n",
    "plt.show()\n",
    "plt.gcf().clear()"
   ]
  },
  {
   "cell_type": "code",
   "execution_count": null,
   "metadata": {
    "_cell_guid": "23ce02fd-d214-47cf-ab98-0c0f2f135cb9",
    "_uuid": "9e94a5f11b1f4b038f079f174b8dec3ccb406454",
    "collapsed": true
   },
   "outputs": [],
   "source": [
    "flg, axes = plt.subplots(nrows = 1, ncols = 3, figsize = (14,6))\n",
    "\n",
    "sns.distplot(train['attack_rate'], ax = axes[0]).set_title('attack_rate Distribution')\n",
    "axes[0].set_ylabel('attack_rate Count')\n",
    "\n",
    "sns.distplot(train['agility_gain'], color = \"r\", ax = axes[1]).set_title('agility_gain Distribution')\n",
    "axes[1].set_ylabel('agility_gain Count')\n",
    "\n",
    "sns.distplot(train['move_speed'],color = \"g\", ax = axes[2]).set_title('move_speed Distribution')\n",
    "axes[2].set_ylabel('move_speed Count')\n",
    "\n",
    "plt.tight_layout()\n",
    "plt.show()\n",
    "plt.gcf().clear()"
   ]
  },
  {
   "cell_type": "code",
   "execution_count": null,
   "metadata": {
    "_cell_guid": "3e7d9104-2ba3-43f9-9e01-33ff3e7cb5af",
    "_uuid": "e3814e7d5f91618306f81c565bb022d964e39746",
    "collapsed": true
   },
   "outputs": [],
   "source": [
    "labels = 'agi', 'int', 'str'\n",
    "sizes = [11513, 10513, 6996]\n",
    "colors = ['B', 'silver', 'R']\n",
    "explode = (0.1, 0.0, 0.1) \n",
    "plt.pie(sizes, explode=explode, labels=labels, colors=colors,\n",
    "        autopct='%1.1f%%', shadow=True, startangle=90)\n",
    "plt.axis('equal')\n",
    "plt.title(\"Percentage of Different Types of primary_attr\")\n",
    "plt.plot()\n",
    "fig=plt.gcf()\n",
    "fig.set_size_inches(7,7)\n",
    "plt.show()"
   ]
  },
  {
   "cell_type": "code",
   "execution_count": null,
   "metadata": {
    "_cell_guid": "9249cb48-55ab-4f04-94cb-f80d2d1b9845",
    "_uuid": "fe71b296b9b8a87b966d6938416883fa0ad5dcda",
    "collapsed": true
   },
   "outputs": [],
   "source": [
    "labels = 'Ranged', 'Melee'\n",
    "sizes = [15400, 13622]\n",
    "colors = ['B', 'R']\n",
    "explode = (0.1, 0.0) \n",
    "plt.pie(sizes, explode=explode, labels=labels, colors=colors,\n",
    "        autopct='%1.1f%%', shadow=True, startangle=90)\n",
    "plt.axis('equal')\n",
    "plt.title(\"Percentage of Different Types of attack_type\")\n",
    "plt.plot()\n",
    "fig=plt.gcf()\n",
    "fig.set_size_inches(7,7)\n",
    "plt.show()"
   ]
  },
  {
   "cell_type": "code",
   "execution_count": null,
   "metadata": {
    "_cell_guid": "4c4e4f17-c852-4468-8f4f-fd20746cd6b6",
    "_uuid": "62f60a2bd9b46897c04ac70fbdc800656563eec9",
    "collapsed": true
   },
   "outputs": [],
   "source": [
    "train.attack_type.value_counts()"
   ]
  },
  {
   "cell_type": "code",
   "execution_count": null,
   "metadata": {
    "_cell_guid": "7b9ceedd-66ec-4e1c-afc4-9bc2e0ae28ac",
    "_uuid": "2bb36eab31c7b9403f218c04cf13b136cc00d0b6",
    "collapsed": true
   },
   "outputs": [],
   "source": [
    "train.base_mana_regen.value_counts()"
   ]
  },
  {
   "cell_type": "code",
   "execution_count": null,
   "metadata": {
    "_cell_guid": "0618e4d8-e438-4dad-8234-9f6a83c2d62b",
    "_uuid": "073a303863da7e4cd626440146c0338247170458",
    "collapsed": true
   },
   "outputs": [],
   "source": [
    "train.base_health.value_counts()"
   ]
  },
  {
   "cell_type": "code",
   "execution_count": null,
   "metadata": {
    "_cell_guid": "0434662b-d833-4d11-9484-98cba62058f9",
    "_uuid": "c9ebca59763a92333c2f7fb5aa26c5884f6c83cb",
    "collapsed": true
   },
   "outputs": [],
   "source": [
    "train.head()"
   ]
  },
  {
   "cell_type": "code",
   "execution_count": null,
   "metadata": {
    "_cell_guid": "55d9a3a9-eaf4-4716-9ad5-df4bc7d1d5cd",
    "_uuid": "3ba79a7fc7be9db3ca0871317585e4c10f8d7c2e",
    "collapsed": true
   },
   "outputs": [],
   "source": [
    "flg, axes = plt.subplots(nrows = 1, ncols = 2, figsize = (14,6))\n",
    "\n",
    "axes[0].hist(train['num_wins'])\n",
    "axes[0].set_xlabel(\"num_wins\")\n",
    "axes[0].set_ylabel(\"Count\")\n",
    "\n",
    "axes[1].hist(train['kda_ratio'], color = \"r\")\n",
    "axes[1].set_xlabel(\"kda_ratio\")\n",
    "axes[1].set_ylabel(\"Count\")\n"
   ]
  },
  {
   "cell_type": "code",
   "execution_count": null,
   "metadata": {
    "_cell_guid": "bb51c1e9-ed45-4e7a-928b-6b9c51d1d5b6",
    "_uuid": "9fd848aa2d8030fee5ed77857440f4846bb4ab8f",
    "collapsed": true
   },
   "outputs": [],
   "source": []
  },
  {
   "cell_type": "code",
   "execution_count": null,
   "metadata": {
    "_cell_guid": "4ff6ca9b-7885-4a1c-877d-79e27d8afcc8",
    "_uuid": "c6ba1cc5f0c31e6be003680d98c19661f22bd5d3",
    "collapsed": true
   },
   "outputs": [],
   "source": [
    "train.columns"
   ]
  },
  {
   "cell_type": "code",
   "execution_count": null,
   "metadata": {
    "_cell_guid": "f9776afd-7913-4d0b-853a-92f551a4d88e",
    "_uuid": "8ae9aff96f4a864224a49e9e440ce3a8c98e5270",
    "collapsed": true
   },
   "outputs": [],
   "source": []
  },
  {
   "cell_type": "code",
   "execution_count": null,
   "metadata": {
    "_cell_guid": "ea13ccd4-27c0-4da9-912d-818b6f65254a",
    "_uuid": "0c6e2eac0f68b9c43e486c13f7a3e234839f19b8",
    "collapsed": true
   },
   "outputs": [],
   "source": [
    "train['primary_attr'] = train['primary_attr'].replace(to_replace = {'agi': 0, 'int': 1, 'str': 2})\n",
    "train['attack_type'] = train['attack_type'].replace(to_replace = {\n",
    "    'Ranged': 0, 'Melee': 1})\n",
    "\n",
    "test['primary_attr'] = test['primary_attr'].replace(to_replace = {'agi': 0, 'int': 1, 'str': 2})\n",
    "test['attack_type'] = test['attack_type'].replace(to_replace = {\n",
    "    'Ranged': 0, 'Melee': 1})"
   ]
  },
  {
   "cell_type": "code",
   "execution_count": null,
   "metadata": {
    "_cell_guid": "2b521ae5-9992-45c3-a5ae-609705232e41",
    "_uuid": "1027ccef13a2b50066e9ee1f839cecf454274157",
    "collapsed": true
   },
   "outputs": [],
   "source": [
    "train.dtypes"
   ]
  },
  {
   "cell_type": "code",
   "execution_count": null,
   "metadata": {
    "_cell_guid": "ab78c5b1-e434-49e4-ad2a-d646c25e393d",
    "_uuid": "710879767ae8e80a3c3fe5debd1397ae7c453321",
    "collapsed": true
   },
   "outputs": [],
   "source": [
    "train = train.drop('num_wins', axis = 1)"
   ]
  },
  {
   "cell_type": "code",
   "execution_count": null,
   "metadata": {
    "_cell_guid": "b333b4db-87ca-4f64-9927-5202ba4b77e1",
    "_uuid": "b4ef4a97fbdb9ca19c395b3f9c1d314fdd29f822",
    "collapsed": true
   },
   "outputs": [],
   "source": [
    "cat = [f for f in train.columns if train.dtypes[f] == 'object']\n",
    "cat"
   ]
  },
  {
   "cell_type": "code",
   "execution_count": null,
   "metadata": {
    "_cell_guid": "fb105bf9-2f0f-4a90-b619-cb582c9efb47",
    "_uuid": "b7d02df8681b749be376c9a656aaa7672a96fea0",
    "collapsed": true
   },
   "outputs": [],
   "source": [
    "cat_test = [f for f in test.columns if test.dtypes[f] == 'object']\n",
    "cat_test"
   ]
  },
  {
   "cell_type": "code",
   "execution_count": null,
   "metadata": {
    "_cell_guid": "5e496a8c-4a8a-472c-aedf-70c4ee310c62",
    "_uuid": "f5dc103dd86edb2c474a494d1a642aa4a64dfc5d",
    "collapsed": true
   },
   "outputs": [],
   "source": [
    "from sklearn.preprocessing import LabelEncoder\n",
    "\n",
    "for c in train.columns:\n",
    "    if train[c].dtype == 'object':\n",
    "        lbl = LabelEncoder()\n",
    "        lbl.fit(list(train[c].values) + list(test[c].values))\n",
    "        train[c] = lbl.transform(list(train[c].values))\n",
    "        test[c] = lbl.transform(list(test[c].values))"
   ]
  },
  {
   "cell_type": "code",
   "execution_count": null,
   "metadata": {
    "_cell_guid": "455cf05a-db77-4a90-ba13-5135020da6dc",
    "_uuid": "7bc750556eb72d2fa69d7edc12b90d4b5c68c4ba",
    "collapsed": true
   },
   "outputs": [],
   "source": [
    "train.dtypes\n"
   ]
  },
  {
   "cell_type": "code",
   "execution_count": null,
   "metadata": {
    "_cell_guid": "17dcfefe-1399-4b56-9703-ef2826a1926d",
    "_uuid": "040c7a45698f14907e1490dac3189b4091e47d61",
    "collapsed": true
   },
   "outputs": [],
   "source": [
    "#Correlation Matrix\n",
    "corr = train.corr()\n",
    "corr = (corr)\n",
    "sns.heatmap(corr, \n",
    "            xticklabels=corr.columns.values,\n",
    "            yticklabels=corr.columns.values)\n",
    "\n",
    "corr"
   ]
  },
  {
   "cell_type": "code",
   "execution_count": null,
   "metadata": {
    "_cell_guid": "2b37aab0-d88b-49c4-a6ff-d31a77fd1088",
    "_uuid": "cbaada0c688429076365048a4b4f717dcbd4c866",
    "collapsed": true
   },
   "outputs": [],
   "source": [
    "# Set up the matplotlib figure\n",
    "f, axes = plt.subplots(ncols=3, figsize=(15, 6))\n",
    "\n",
    "# turn_rate\n",
    "sns.distplot(train.turn_rate, kde=False, color=\"g\", ax=axes[0]).set_title('turn_rate Distribution')\n",
    "axes[0].set_ylabel('turn_rate Count')\n",
    "\n",
    "# move_speed\n",
    "sns.distplot(train.move_speed, kde=False, color=\"r\", ax=axes[1]).set_title('move_speed Distribution')\n",
    "axes[1].set_ylabel('move_speed Count')\n",
    "\n",
    "# attack_rate\n",
    "sns.distplot(train.attack_rate, kde=False, color=\"b\", ax=axes[2]).set_title('attack_rate Distribution')\n",
    "axes[2].set_ylabel('attack_rate Count')\n"
   ]
  },
  {
   "cell_type": "code",
   "execution_count": null,
   "metadata": {
    "_cell_guid": "5b78159e-1f5b-4b9c-ad1a-023e437f7b8c",
    "_uuid": "4279f527207fd8209a98652d5fbe914f0c64eb54",
    "collapsed": true
   },
   "outputs": [],
   "source": [
    "f,axes = plt.subplots(ncols = 3, figsize = (15,6))\n",
    "\n",
    "sns.distplot(train.projectile_speed, kde= False, color = \"g\", ax = axes[0]).set_title('projectile_speed Distribution')\n",
    "axes[0].set_ylabel('projectile Count')\n",
    "\n",
    "sns.distplot(train.attack_range, kde = False, color = \"r\", ax = axes[1]).set_title('attack_range Distribution')\n",
    "axes[1].set_ylabel('attack_range count')\n",
    "\n",
    "sns.distplot(train.intelligence_gain, kde= False, color = \"g\", ax = axes[2]).set_title('intelligence_gain Distribution')\n",
    "axes[2].set_ylabel('intelligence_gain Count')\n",
    "\n"
   ]
  },
  {
   "cell_type": "code",
   "execution_count": null,
   "metadata": {
    "_cell_guid": "26903b1b-c32f-4627-b98e-ecf602051a6d",
    "_uuid": "3c05f5ebacf3302d1f0faa05f66a0b39ffb1f2cd",
    "collapsed": true
   },
   "outputs": [],
   "source": [
    "\n",
    "\n"
   ]
  },
  {
   "cell_type": "code",
   "execution_count": null,
   "metadata": {
    "_cell_guid": "3f5d8144-b09d-4a53-9699-ce85674c37b2",
    "_uuid": "2eed8634e94869cc0ea618f8a74afe89f2e1c323",
    "collapsed": true
   },
   "outputs": [],
   "source": []
  },
  {
   "cell_type": "code",
   "execution_count": null,
   "metadata": {
    "_cell_guid": "0d9bde3e-d47a-4717-a71d-9962d466c896",
    "_uuid": "f1a3389aac423fc47ae3fa82290794276e90f644",
    "collapsed": true
   },
   "outputs": [],
   "source": []
  },
  {
   "cell_type": "code",
   "execution_count": null,
   "metadata": {
    "_cell_guid": "0c491b8c-6a10-4878-af7c-d1eab2f9e6b1",
    "_uuid": "3b4d456a7aade98c4e8074e1ed3219c9aa96d66d",
    "collapsed": true
   },
   "outputs": [],
   "source": []
  },
  {
   "cell_type": "code",
   "execution_count": null,
   "metadata": {
    "_cell_guid": "cb45402b-5fd8-4974-b5b2-e9d6e0f155e7",
    "_uuid": "ea13ec3186680cd1312e4a6f2546091784d8dce0",
    "collapsed": true
   },
   "outputs": [],
   "source": []
  },
  {
   "cell_type": "code",
   "execution_count": null,
   "metadata": {
    "_cell_guid": "a3652f8b-c543-4ad4-b8ab-9174e5ea5e82",
    "_uuid": "9e353cccf15d0c020ee7d7586098762248b16564",
    "collapsed": true
   },
   "outputs": [],
   "source": [
    "target = train['kda_ratio']\n",
    "feature_names = [x for x in train.columns if x not in 'kda_ratio']"
   ]
  },
  {
   "cell_type": "code",
   "execution_count": null,
   "metadata": {
    "_cell_guid": "5625ea4c-b95f-4e67-ba65-ab926260317b",
    "_uuid": "287f50ce4a84bcaca3342c0344619db1b6f10601",
    "collapsed": true
   },
   "outputs": [],
   "source": []
  },
  {
   "cell_type": "code",
   "execution_count": null,
   "metadata": {
    "_cell_guid": "2eed3230-9d8b-48b6-a7f5-61b73daaf60b",
    "_uuid": "23ff2a373f8db682e769813fbdc82b1d5ec85ce6",
    "collapsed": true
   },
   "outputs": [],
   "source": [
    "# Splitting the dataset into the Training set and Test set\n",
    "from sklearn.cross_validation import train_test_split\n",
    "X_train, X_test, y_train, y_test = train_test_split(train[feature_names], target, test_size = 0.1, random_state = 0)\n",
    "from sklearn.metrics import mean_squared_error\n",
    "def rmse(y_test,y_pred):\n",
    "      return np.sqrt(mean_squared_error(y_test,y_pred))"
   ]
  },
  {
   "cell_type": "code",
   "execution_count": null,
   "metadata": {
    "_cell_guid": "97b0ef8b-6d7f-4003-b8c6-77d41863cbf2",
    "_uuid": "44f6a8503fddce0a1843a66fd94a4f2d6e602ecd",
    "collapsed": true
   },
   "outputs": [],
   "source": []
  },
  {
   "cell_type": "code",
   "execution_count": null,
   "metadata": {
    "_cell_guid": "5c3114e5-cd52-4b44-b675-4d31a4bbd78f",
    "_uuid": "f390c075d16cf546a24621c3fba40c3af62443d7",
    "collapsed": true
   },
   "outputs": [],
   "source": [
    "\n",
    "from xgboost import XGBRegressor\n",
    "model = XGBRegressor(colsample_bytree=0.2,\n",
    "                        gamma=0.0,\n",
    "                        learning_rate=0.05,\n",
    "                        max_depth=3,\n",
    "                        min_child_weight=1.5,\n",
    "                        n_estimators=50,#50,000\n",
    "                        reg_alpha=0.3,\n",
    "                        reg_lambda=0.6,\n",
    "                       subsample=0.8,\n",
    "                      seed=42,\n",
    "                      silent=1)\n",
    "\n",
    "model.fit(train[feature_names], target)\n",
    "pred_xgb = model.predict(test[feature_names])"
   ]
  },
  {
   "cell_type": "code",
   "execution_count": null,
   "metadata": {
    "_cell_guid": "27f7da05-5c9f-4de2-bd7a-857ea55a45f3",
    "_uuid": "c23bb9e1531db4b98c3add2be9d15a3e03f2d03d",
    "collapsed": true
   },
   "outputs": [],
   "source": [
    "model = GradientBoostingRegressor(n_estimators=3000, learning_rate=0.05,\n",
    "                                   max_depth=4, max_features='sqrt',\n",
    "                                  min_samples_leaf=15, min_samples_split=10, \n",
    "                                    loss='huber', random_state =5)\n",
    "model.fit(train[feature_names], target)\n",
    "pred_rf = model.predict(test[feature_names])\n",
    "pred_rf[:10]"
   ]
  },
  {
   "cell_type": "code",
   "execution_count": null,
   "metadata": {
    "_cell_guid": "95b56306-a0f9-4745-82b7-79d6ea97d558",
    "_uuid": "108e530596e75e765d86b81872e2669168adcaf1",
    "collapsed": true
   },
   "outputs": [],
   "source": [
    "model = RandomForestRegressor()\n",
    "model.fit(train[feature_names], target)\n",
    "pred_rf = model.predict(test[feature_names])"
   ]
  }
 ],
 "metadata": {
  "kernelspec": {
   "display_name": "Python 3",
   "language": "python",
   "name": "python3"
  },
  "language_info": {
   "codemirror_mode": {
    "name": "ipython",
    "version": 3
   },
   "file_extension": ".py",
   "mimetype": "text/x-python",
   "name": "python",
   "nbconvert_exporter": "python",
   "pygments_lexer": "ipython3",
   "version": "3.6.1"
  }
 },
 "nbformat": 4,
 "nbformat_minor": 1
}
